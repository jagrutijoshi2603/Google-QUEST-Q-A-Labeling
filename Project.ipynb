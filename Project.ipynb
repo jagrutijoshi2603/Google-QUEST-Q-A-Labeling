{
 "cells": [
  {
   "cell_type": "markdown",
   "metadata": {},
   "source": [
    "### Setting up the environment"
   ]
  },
  {
   "cell_type": "code",
   "execution_count": 70,
   "metadata": {},
   "outputs": [
    {
     "ename": "SyntaxError",
     "evalue": "invalid syntax (<ipython-input-70-d8787c5c06e7>, line 5)",
     "output_type": "error",
     "traceback": [
      "\u001b[1;36m  File \u001b[1;32m\"<ipython-input-70-d8787c5c06e7>\"\u001b[1;36m, line \u001b[1;32m5\u001b[0m\n\u001b[1;33m    import matplotlib-venn as venn\u001b[0m\n\u001b[1;37m                     ^\u001b[0m\n\u001b[1;31mSyntaxError\u001b[0m\u001b[1;31m:\u001b[0m invalid syntax\n"
     ]
    }
   ],
   "source": [
    "# import required libraries\n",
    "import pandas as pd\n",
    "import numpy as np\n",
    "import matplotlib.pyplot as plt\n",
    "import matplotlib_venn as v\n",
    "import seaborn as sns\n",
    "\n",
    "from plotly.offline import init_notebook_mode, iplot\n",
    "import cufflinks as cf\n",
    "cf.go_offline()\n",
    "cf.set_config_file(offline=False, world_readable=True)\n",
    "\n",
    "import plotly.graph_objects as go\n",
    "from plotly.subplots import make_subplots"
   ]
  },
  {
   "cell_type": "code",
   "execution_count": 15,
   "metadata": {},
   "outputs": [],
   "source": [
    "# read csv files\n",
    "train = pd.read_csv('data/google-quest-challenge/train.csv')\n",
    "test = pd.read_csv('data/google-quest-challenge/test.csv')\n",
    "sample_submission = pd.read_csv('data/google-quest-challenge/sample_submission.csv')"
   ]
  },
  {
   "cell_type": "markdown",
   "metadata": {},
   "source": [
    "### Exploring the data"
   ]
  },
  {
   "cell_type": "markdown",
   "metadata": {},
   "source": [
    "#### Overview of data"
   ]
  },
  {
   "cell_type": "code",
   "execution_count": 4,
   "metadata": {},
   "outputs": [
    {
     "data": {
      "text/html": [
       "<div>\n",
       "<style scoped>\n",
       "    .dataframe tbody tr th:only-of-type {\n",
       "        vertical-align: middle;\n",
       "    }\n",
       "\n",
       "    .dataframe tbody tr th {\n",
       "        vertical-align: top;\n",
       "    }\n",
       "\n",
       "    .dataframe thead th {\n",
       "        text-align: right;\n",
       "    }\n",
       "</style>\n",
       "<table border=\"1\" class=\"dataframe\">\n",
       "  <thead>\n",
       "    <tr style=\"text-align: right;\">\n",
       "      <th></th>\n",
       "      <th>qa_id</th>\n",
       "      <th>question_title</th>\n",
       "      <th>question_body</th>\n",
       "      <th>question_user_name</th>\n",
       "      <th>question_user_page</th>\n",
       "      <th>answer</th>\n",
       "      <th>answer_user_name</th>\n",
       "      <th>answer_user_page</th>\n",
       "      <th>url</th>\n",
       "      <th>category</th>\n",
       "      <th>...</th>\n",
       "      <th>question_well_written</th>\n",
       "      <th>answer_helpful</th>\n",
       "      <th>answer_level_of_information</th>\n",
       "      <th>answer_plausible</th>\n",
       "      <th>answer_relevance</th>\n",
       "      <th>answer_satisfaction</th>\n",
       "      <th>answer_type_instructions</th>\n",
       "      <th>answer_type_procedure</th>\n",
       "      <th>answer_type_reason_explanation</th>\n",
       "      <th>answer_well_written</th>\n",
       "    </tr>\n",
       "  </thead>\n",
       "  <tbody>\n",
       "    <tr>\n",
       "      <td>0</td>\n",
       "      <td>0</td>\n",
       "      <td>What am I losing when using extension tubes in...</td>\n",
       "      <td>After playing around with macro photography on...</td>\n",
       "      <td>ysap</td>\n",
       "      <td>https://photo.stackexchange.com/users/1024</td>\n",
       "      <td>I just got extension tubes, so here's the skin...</td>\n",
       "      <td>rfusca</td>\n",
       "      <td>https://photo.stackexchange.com/users/1917</td>\n",
       "      <td>http://photo.stackexchange.com/questions/9169/...</td>\n",
       "      <td>LIFE_ARTS</td>\n",
       "      <td>...</td>\n",
       "      <td>1.000000</td>\n",
       "      <td>1.000000</td>\n",
       "      <td>0.666667</td>\n",
       "      <td>1.000000</td>\n",
       "      <td>1.000000</td>\n",
       "      <td>0.800000</td>\n",
       "      <td>1.000000</td>\n",
       "      <td>0.000000</td>\n",
       "      <td>0.000000</td>\n",
       "      <td>1.000000</td>\n",
       "    </tr>\n",
       "    <tr>\n",
       "      <td>1</td>\n",
       "      <td>1</td>\n",
       "      <td>What is the distinction between a city and a s...</td>\n",
       "      <td>I am trying to understand what kinds of places...</td>\n",
       "      <td>russellpierce</td>\n",
       "      <td>https://rpg.stackexchange.com/users/8774</td>\n",
       "      <td>It might be helpful to look into the definitio...</td>\n",
       "      <td>Erik Schmidt</td>\n",
       "      <td>https://rpg.stackexchange.com/users/1871</td>\n",
       "      <td>http://rpg.stackexchange.com/questions/47820/w...</td>\n",
       "      <td>CULTURE</td>\n",
       "      <td>...</td>\n",
       "      <td>0.888889</td>\n",
       "      <td>0.888889</td>\n",
       "      <td>0.555556</td>\n",
       "      <td>0.888889</td>\n",
       "      <td>0.888889</td>\n",
       "      <td>0.666667</td>\n",
       "      <td>0.000000</td>\n",
       "      <td>0.000000</td>\n",
       "      <td>0.666667</td>\n",
       "      <td>0.888889</td>\n",
       "    </tr>\n",
       "    <tr>\n",
       "      <td>2</td>\n",
       "      <td>2</td>\n",
       "      <td>Maximum protusion length for through-hole comp...</td>\n",
       "      <td>I'm working on a PCB that has through-hole com...</td>\n",
       "      <td>Joe Baker</td>\n",
       "      <td>https://electronics.stackexchange.com/users/10157</td>\n",
       "      <td>Do you even need grooves?  We make several pro...</td>\n",
       "      <td>Dwayne Reid</td>\n",
       "      <td>https://electronics.stackexchange.com/users/64754</td>\n",
       "      <td>http://electronics.stackexchange.com/questions...</td>\n",
       "      <td>SCIENCE</td>\n",
       "      <td>...</td>\n",
       "      <td>0.777778</td>\n",
       "      <td>0.777778</td>\n",
       "      <td>0.555556</td>\n",
       "      <td>1.000000</td>\n",
       "      <td>1.000000</td>\n",
       "      <td>0.666667</td>\n",
       "      <td>0.000000</td>\n",
       "      <td>0.333333</td>\n",
       "      <td>1.000000</td>\n",
       "      <td>0.888889</td>\n",
       "    </tr>\n",
       "    <tr>\n",
       "      <td>3</td>\n",
       "      <td>3</td>\n",
       "      <td>Can an affidavit be used in Beit Din?</td>\n",
       "      <td>An affidavit, from what i understand, is basic...</td>\n",
       "      <td>Scimonster</td>\n",
       "      <td>https://judaism.stackexchange.com/users/5151</td>\n",
       "      <td>Sending an \"affidavit\" it is a dispute between...</td>\n",
       "      <td>Y     e     z</td>\n",
       "      <td>https://judaism.stackexchange.com/users/4794</td>\n",
       "      <td>http://judaism.stackexchange.com/questions/551...</td>\n",
       "      <td>CULTURE</td>\n",
       "      <td>...</td>\n",
       "      <td>0.888889</td>\n",
       "      <td>0.833333</td>\n",
       "      <td>0.333333</td>\n",
       "      <td>0.833333</td>\n",
       "      <td>1.000000</td>\n",
       "      <td>0.800000</td>\n",
       "      <td>0.000000</td>\n",
       "      <td>0.000000</td>\n",
       "      <td>1.000000</td>\n",
       "      <td>1.000000</td>\n",
       "    </tr>\n",
       "    <tr>\n",
       "      <td>4</td>\n",
       "      <td>5</td>\n",
       "      <td>How do you make a binary image in Photoshop?</td>\n",
       "      <td>I am trying to make a binary image. I want mor...</td>\n",
       "      <td>leigero</td>\n",
       "      <td>https://graphicdesign.stackexchange.com/users/...</td>\n",
       "      <td>Check out Image Trace in Adobe Illustrator. \\n...</td>\n",
       "      <td>q2ra</td>\n",
       "      <td>https://graphicdesign.stackexchange.com/users/...</td>\n",
       "      <td>http://graphicdesign.stackexchange.com/questio...</td>\n",
       "      <td>LIFE_ARTS</td>\n",
       "      <td>...</td>\n",
       "      <td>1.000000</td>\n",
       "      <td>1.000000</td>\n",
       "      <td>0.666667</td>\n",
       "      <td>1.000000</td>\n",
       "      <td>1.000000</td>\n",
       "      <td>0.800000</td>\n",
       "      <td>1.000000</td>\n",
       "      <td>0.000000</td>\n",
       "      <td>1.000000</td>\n",
       "      <td>1.000000</td>\n",
       "    </tr>\n",
       "    <tr>\n",
       "      <td>...</td>\n",
       "      <td>...</td>\n",
       "      <td>...</td>\n",
       "      <td>...</td>\n",
       "      <td>...</td>\n",
       "      <td>...</td>\n",
       "      <td>...</td>\n",
       "      <td>...</td>\n",
       "      <td>...</td>\n",
       "      <td>...</td>\n",
       "      <td>...</td>\n",
       "      <td>...</td>\n",
       "      <td>...</td>\n",
       "      <td>...</td>\n",
       "      <td>...</td>\n",
       "      <td>...</td>\n",
       "      <td>...</td>\n",
       "      <td>...</td>\n",
       "      <td>...</td>\n",
       "      <td>...</td>\n",
       "      <td>...</td>\n",
       "      <td>...</td>\n",
       "    </tr>\n",
       "    <tr>\n",
       "      <td>6074</td>\n",
       "      <td>9642</td>\n",
       "      <td>Using a ski helmet for winter biking</td>\n",
       "      <td>I am curious if anyone uses a skiing helmet fo...</td>\n",
       "      <td>sixtyfootersdude</td>\n",
       "      <td>https://bicycles.stackexchange.com/users/134</td>\n",
       "      <td>If you're thinking about wearing a ski helmet ...</td>\n",
       "      <td>Matt Leo</td>\n",
       "      <td>https://bicycles.stackexchange.com/users/3340</td>\n",
       "      <td>http://bicycles.stackexchange.com/questions/99...</td>\n",
       "      <td>CULTURE</td>\n",
       "      <td>...</td>\n",
       "      <td>0.777778</td>\n",
       "      <td>1.000000</td>\n",
       "      <td>0.555556</td>\n",
       "      <td>1.000000</td>\n",
       "      <td>1.000000</td>\n",
       "      <td>0.866667</td>\n",
       "      <td>0.000000</td>\n",
       "      <td>0.000000</td>\n",
       "      <td>0.000000</td>\n",
       "      <td>0.888889</td>\n",
       "    </tr>\n",
       "    <tr>\n",
       "      <td>6075</td>\n",
       "      <td>9643</td>\n",
       "      <td>Adjustment to road bike brakes for high grade ...</td>\n",
       "      <td>I have a road bike with a front brake that wea...</td>\n",
       "      <td>ash</td>\n",
       "      <td>https://bicycles.stackexchange.com/users/14519</td>\n",
       "      <td>\\nYou can replace the pads (as stated elsewher...</td>\n",
       "      <td>Daniel R Hicks</td>\n",
       "      <td>https://bicycles.stackexchange.com/users/1584</td>\n",
       "      <td>http://bicycles.stackexchange.com/questions/25...</td>\n",
       "      <td>CULTURE</td>\n",
       "      <td>...</td>\n",
       "      <td>0.777778</td>\n",
       "      <td>0.888889</td>\n",
       "      <td>0.555556</td>\n",
       "      <td>1.000000</td>\n",
       "      <td>1.000000</td>\n",
       "      <td>0.733333</td>\n",
       "      <td>0.666667</td>\n",
       "      <td>0.333333</td>\n",
       "      <td>0.000000</td>\n",
       "      <td>0.888889</td>\n",
       "    </tr>\n",
       "    <tr>\n",
       "      <td>6076</td>\n",
       "      <td>9645</td>\n",
       "      <td>Suppress 'file truncated' messages when using ...</td>\n",
       "      <td>I'm tailing a log file using tail -f messages....</td>\n",
       "      <td>Maneating Koala</td>\n",
       "      <td>https://unix.stackexchange.com/users/60445</td>\n",
       "      <td>Maybe help if can be fixes origin of this erro...</td>\n",
       "      <td>BG Bruno</td>\n",
       "      <td>https://unix.stackexchange.com/users/68208</td>\n",
       "      <td>http://unix.stackexchange.com/questions/169054...</td>\n",
       "      <td>TECHNOLOGY</td>\n",
       "      <td>...</td>\n",
       "      <td>0.444444</td>\n",
       "      <td>0.888889</td>\n",
       "      <td>0.555556</td>\n",
       "      <td>0.888889</td>\n",
       "      <td>0.888889</td>\n",
       "      <td>0.800000</td>\n",
       "      <td>1.000000</td>\n",
       "      <td>0.000000</td>\n",
       "      <td>0.333333</td>\n",
       "      <td>0.555556</td>\n",
       "    </tr>\n",
       "    <tr>\n",
       "      <td>6077</td>\n",
       "      <td>9646</td>\n",
       "      <td>When should a supervisor be a co-author?</td>\n",
       "      <td>What are people's views on this?  To be specif...</td>\n",
       "      <td>MrB</td>\n",
       "      <td>https://mathoverflow.net/users/2189</td>\n",
       "      <td>As a non-mathematician, I am somewhat mystifie...</td>\n",
       "      <td>angela</td>\n",
       "      <td>https://mathoverflow.net/users/4267</td>\n",
       "      <td>http://mathoverflow.net/questions/57337</td>\n",
       "      <td>SCIENCE</td>\n",
       "      <td>...</td>\n",
       "      <td>1.000000</td>\n",
       "      <td>0.888889</td>\n",
       "      <td>0.555556</td>\n",
       "      <td>1.000000</td>\n",
       "      <td>1.000000</td>\n",
       "      <td>0.533333</td>\n",
       "      <td>0.000000</td>\n",
       "      <td>0.333333</td>\n",
       "      <td>0.666667</td>\n",
       "      <td>1.000000</td>\n",
       "    </tr>\n",
       "    <tr>\n",
       "      <td>6078</td>\n",
       "      <td>9647</td>\n",
       "      <td>Why are there so many different types of screw...</td>\n",
       "      <td>Newbie question.\\n\\nWhy is it that there's a b...</td>\n",
       "      <td>Doug T.</td>\n",
       "      <td>https://diy.stackexchange.com/users/321</td>\n",
       "      <td>First, I really like Eric's answer for practic...</td>\n",
       "      <td>Scivitri</td>\n",
       "      <td>https://diy.stackexchange.com/users/113</td>\n",
       "      <td>http://diy.stackexchange.com/questions/2701/wh...</td>\n",
       "      <td>LIFE_ARTS</td>\n",
       "      <td>...</td>\n",
       "      <td>1.000000</td>\n",
       "      <td>0.888889</td>\n",
       "      <td>0.555556</td>\n",
       "      <td>1.000000</td>\n",
       "      <td>0.888889</td>\n",
       "      <td>0.733333</td>\n",
       "      <td>0.000000</td>\n",
       "      <td>0.000000</td>\n",
       "      <td>1.000000</td>\n",
       "      <td>1.000000</td>\n",
       "    </tr>\n",
       "  </tbody>\n",
       "</table>\n",
       "<p>6079 rows × 41 columns</p>\n",
       "</div>"
      ],
      "text/plain": [
       "      qa_id                                     question_title  \\\n",
       "0         0  What am I losing when using extension tubes in...   \n",
       "1         1  What is the distinction between a city and a s...   \n",
       "2         2  Maximum protusion length for through-hole comp...   \n",
       "3         3              Can an affidavit be used in Beit Din?   \n",
       "4         5       How do you make a binary image in Photoshop?   \n",
       "...     ...                                                ...   \n",
       "6074   9642               Using a ski helmet for winter biking   \n",
       "6075   9643  Adjustment to road bike brakes for high grade ...   \n",
       "6076   9645  Suppress 'file truncated' messages when using ...   \n",
       "6077   9646           When should a supervisor be a co-author?   \n",
       "6078   9647  Why are there so many different types of screw...   \n",
       "\n",
       "                                          question_body question_user_name  \\\n",
       "0     After playing around with macro photography on...               ysap   \n",
       "1     I am trying to understand what kinds of places...      russellpierce   \n",
       "2     I'm working on a PCB that has through-hole com...          Joe Baker   \n",
       "3     An affidavit, from what i understand, is basic...         Scimonster   \n",
       "4     I am trying to make a binary image. I want mor...            leigero   \n",
       "...                                                 ...                ...   \n",
       "6074  I am curious if anyone uses a skiing helmet fo...   sixtyfootersdude   \n",
       "6075  I have a road bike with a front brake that wea...                ash   \n",
       "6076  I'm tailing a log file using tail -f messages....    Maneating Koala   \n",
       "6077  What are people's views on this?  To be specif...                MrB   \n",
       "6078  Newbie question.\\n\\nWhy is it that there's a b...            Doug T.   \n",
       "\n",
       "                                     question_user_page  \\\n",
       "0            https://photo.stackexchange.com/users/1024   \n",
       "1              https://rpg.stackexchange.com/users/8774   \n",
       "2     https://electronics.stackexchange.com/users/10157   \n",
       "3          https://judaism.stackexchange.com/users/5151   \n",
       "4     https://graphicdesign.stackexchange.com/users/...   \n",
       "...                                                 ...   \n",
       "6074       https://bicycles.stackexchange.com/users/134   \n",
       "6075     https://bicycles.stackexchange.com/users/14519   \n",
       "6076         https://unix.stackexchange.com/users/60445   \n",
       "6077                https://mathoverflow.net/users/2189   \n",
       "6078            https://diy.stackexchange.com/users/321   \n",
       "\n",
       "                                                 answer answer_user_name  \\\n",
       "0     I just got extension tubes, so here's the skin...           rfusca   \n",
       "1     It might be helpful to look into the definitio...     Erik Schmidt   \n",
       "2     Do you even need grooves?  We make several pro...      Dwayne Reid   \n",
       "3     Sending an \"affidavit\" it is a dispute between...    Y     e     z   \n",
       "4     Check out Image Trace in Adobe Illustrator. \\n...             q2ra   \n",
       "...                                                 ...              ...   \n",
       "6074  If you're thinking about wearing a ski helmet ...         Matt Leo   \n",
       "6075  \\nYou can replace the pads (as stated elsewher...   Daniel R Hicks   \n",
       "6076  Maybe help if can be fixes origin of this erro...         BG Bruno   \n",
       "6077  As a non-mathematician, I am somewhat mystifie...           angela   \n",
       "6078  First, I really like Eric's answer for practic...         Scivitri   \n",
       "\n",
       "                                       answer_user_page  \\\n",
       "0            https://photo.stackexchange.com/users/1917   \n",
       "1              https://rpg.stackexchange.com/users/1871   \n",
       "2     https://electronics.stackexchange.com/users/64754   \n",
       "3          https://judaism.stackexchange.com/users/4794   \n",
       "4     https://graphicdesign.stackexchange.com/users/...   \n",
       "...                                                 ...   \n",
       "6074      https://bicycles.stackexchange.com/users/3340   \n",
       "6075      https://bicycles.stackexchange.com/users/1584   \n",
       "6076         https://unix.stackexchange.com/users/68208   \n",
       "6077                https://mathoverflow.net/users/4267   \n",
       "6078            https://diy.stackexchange.com/users/113   \n",
       "\n",
       "                                                    url    category  ...  \\\n",
       "0     http://photo.stackexchange.com/questions/9169/...   LIFE_ARTS  ...   \n",
       "1     http://rpg.stackexchange.com/questions/47820/w...     CULTURE  ...   \n",
       "2     http://electronics.stackexchange.com/questions...     SCIENCE  ...   \n",
       "3     http://judaism.stackexchange.com/questions/551...     CULTURE  ...   \n",
       "4     http://graphicdesign.stackexchange.com/questio...   LIFE_ARTS  ...   \n",
       "...                                                 ...         ...  ...   \n",
       "6074  http://bicycles.stackexchange.com/questions/99...     CULTURE  ...   \n",
       "6075  http://bicycles.stackexchange.com/questions/25...     CULTURE  ...   \n",
       "6076  http://unix.stackexchange.com/questions/169054...  TECHNOLOGY  ...   \n",
       "6077            http://mathoverflow.net/questions/57337     SCIENCE  ...   \n",
       "6078  http://diy.stackexchange.com/questions/2701/wh...   LIFE_ARTS  ...   \n",
       "\n",
       "     question_well_written  answer_helpful  answer_level_of_information  \\\n",
       "0                 1.000000        1.000000                     0.666667   \n",
       "1                 0.888889        0.888889                     0.555556   \n",
       "2                 0.777778        0.777778                     0.555556   \n",
       "3                 0.888889        0.833333                     0.333333   \n",
       "4                 1.000000        1.000000                     0.666667   \n",
       "...                    ...             ...                          ...   \n",
       "6074              0.777778        1.000000                     0.555556   \n",
       "6075              0.777778        0.888889                     0.555556   \n",
       "6076              0.444444        0.888889                     0.555556   \n",
       "6077              1.000000        0.888889                     0.555556   \n",
       "6078              1.000000        0.888889                     0.555556   \n",
       "\n",
       "      answer_plausible  answer_relevance  answer_satisfaction  \\\n",
       "0             1.000000          1.000000             0.800000   \n",
       "1             0.888889          0.888889             0.666667   \n",
       "2             1.000000          1.000000             0.666667   \n",
       "3             0.833333          1.000000             0.800000   \n",
       "4             1.000000          1.000000             0.800000   \n",
       "...                ...               ...                  ...   \n",
       "6074          1.000000          1.000000             0.866667   \n",
       "6075          1.000000          1.000000             0.733333   \n",
       "6076          0.888889          0.888889             0.800000   \n",
       "6077          1.000000          1.000000             0.533333   \n",
       "6078          1.000000          0.888889             0.733333   \n",
       "\n",
       "      answer_type_instructions  answer_type_procedure  \\\n",
       "0                     1.000000               0.000000   \n",
       "1                     0.000000               0.000000   \n",
       "2                     0.000000               0.333333   \n",
       "3                     0.000000               0.000000   \n",
       "4                     1.000000               0.000000   \n",
       "...                        ...                    ...   \n",
       "6074                  0.000000               0.000000   \n",
       "6075                  0.666667               0.333333   \n",
       "6076                  1.000000               0.000000   \n",
       "6077                  0.000000               0.333333   \n",
       "6078                  0.000000               0.000000   \n",
       "\n",
       "      answer_type_reason_explanation  answer_well_written  \n",
       "0                           0.000000             1.000000  \n",
       "1                           0.666667             0.888889  \n",
       "2                           1.000000             0.888889  \n",
       "3                           1.000000             1.000000  \n",
       "4                           1.000000             1.000000  \n",
       "...                              ...                  ...  \n",
       "6074                        0.000000             0.888889  \n",
       "6075                        0.000000             0.888889  \n",
       "6076                        0.333333             0.555556  \n",
       "6077                        0.666667             1.000000  \n",
       "6078                        1.000000             1.000000  \n",
       "\n",
       "[6079 rows x 41 columns]"
      ]
     },
     "execution_count": 4,
     "metadata": {},
     "output_type": "execute_result"
    }
   ],
   "source": [
    "# exploring train data\n",
    "train # 6079 Q&A pairs"
   ]
  },
  {
   "cell_type": "code",
   "execution_count": 5,
   "metadata": {},
   "outputs": [
    {
     "name": "stdout",
     "output_type": "stream",
     "text": [
      "Index(['qa_id', 'question_title', 'question_body', 'question_user_name',\n",
      "       'question_user_page', 'answer', 'answer_user_name', 'answer_user_page',\n",
      "       'url', 'category', 'host', 'question_asker_intent_understanding',\n",
      "       'question_body_critical', 'question_conversational',\n",
      "       'question_expect_short_answer', 'question_fact_seeking',\n",
      "       'question_has_commonly_accepted_answer',\n",
      "       'question_interestingness_others', 'question_interestingness_self',\n",
      "       'question_multi_intent', 'question_not_really_a_question',\n",
      "       'question_opinion_seeking', 'question_type_choice',\n",
      "       'question_type_compare', 'question_type_consequence',\n",
      "       'question_type_definition', 'question_type_entity',\n",
      "       'question_type_instructions', 'question_type_procedure',\n",
      "       'question_type_reason_explanation', 'question_type_spelling',\n",
      "       'question_well_written', 'answer_helpful',\n",
      "       'answer_level_of_information', 'answer_plausible', 'answer_relevance',\n",
      "       'answer_satisfaction', 'answer_type_instructions',\n",
      "       'answer_type_procedure', 'answer_type_reason_explanation',\n",
      "       'answer_well_written'],\n",
      "      dtype='object')\n",
      "25\n",
      "12\n"
     ]
    }
   ],
   "source": [
    "print(train.columns)\n",
    "print(len([col for col in train.columns if col.startswith('question')])) # 25 question-related columns\n",
    "print(len([col for col in train.columns if col.startswith('answer')])) # 12 answer-related columns"
   ]
  },
  {
   "cell_type": "code",
   "execution_count": 6,
   "metadata": {},
   "outputs": [
    {
     "data": {
      "text/html": [
       "<div>\n",
       "<style scoped>\n",
       "    .dataframe tbody tr th:only-of-type {\n",
       "        vertical-align: middle;\n",
       "    }\n",
       "\n",
       "    .dataframe tbody tr th {\n",
       "        vertical-align: top;\n",
       "    }\n",
       "\n",
       "    .dataframe thead th {\n",
       "        text-align: right;\n",
       "    }\n",
       "</style>\n",
       "<table border=\"1\" class=\"dataframe\">\n",
       "  <thead>\n",
       "    <tr style=\"text-align: right;\">\n",
       "      <th></th>\n",
       "      <th>qa_id</th>\n",
       "      <th>question_title</th>\n",
       "      <th>question_body</th>\n",
       "      <th>question_user_name</th>\n",
       "      <th>question_user_page</th>\n",
       "      <th>answer</th>\n",
       "      <th>answer_user_name</th>\n",
       "      <th>answer_user_page</th>\n",
       "      <th>url</th>\n",
       "      <th>category</th>\n",
       "      <th>host</th>\n",
       "    </tr>\n",
       "  </thead>\n",
       "  <tbody>\n",
       "    <tr>\n",
       "      <td>0</td>\n",
       "      <td>39</td>\n",
       "      <td>Will leaving corpses lying around upset my pri...</td>\n",
       "      <td>I see questions/information online about how t...</td>\n",
       "      <td>Dylan</td>\n",
       "      <td>https://gaming.stackexchange.com/users/64471</td>\n",
       "      <td>There is no consequence for leaving corpses an...</td>\n",
       "      <td>Nelson868</td>\n",
       "      <td>https://gaming.stackexchange.com/users/97324</td>\n",
       "      <td>http://gaming.stackexchange.com/questions/1979...</td>\n",
       "      <td>CULTURE</td>\n",
       "      <td>gaming.stackexchange.com</td>\n",
       "    </tr>\n",
       "    <tr>\n",
       "      <td>1</td>\n",
       "      <td>46</td>\n",
       "      <td>Url link to feature image in the portfolio</td>\n",
       "      <td>I am new to Wordpress. i have issue with Featu...</td>\n",
       "      <td>Anu</td>\n",
       "      <td>https://wordpress.stackexchange.com/users/72927</td>\n",
       "      <td>I think it is possible with custom fields.\\n\\n...</td>\n",
       "      <td>Irina</td>\n",
       "      <td>https://wordpress.stackexchange.com/users/27233</td>\n",
       "      <td>http://wordpress.stackexchange.com/questions/1...</td>\n",
       "      <td>TECHNOLOGY</td>\n",
       "      <td>wordpress.stackexchange.com</td>\n",
       "    </tr>\n",
       "    <tr>\n",
       "      <td>2</td>\n",
       "      <td>70</td>\n",
       "      <td>Is accuracy, recoil or bullet spread affected ...</td>\n",
       "      <td>To experiment I started a bot game, toggled in...</td>\n",
       "      <td>Konsta</td>\n",
       "      <td>https://gaming.stackexchange.com/users/37545</td>\n",
       "      <td>You do not have armour in the screenshots. Thi...</td>\n",
       "      <td>Damon Smithies</td>\n",
       "      <td>https://gaming.stackexchange.com/users/70641</td>\n",
       "      <td>http://gaming.stackexchange.com/questions/2154...</td>\n",
       "      <td>CULTURE</td>\n",
       "      <td>gaming.stackexchange.com</td>\n",
       "    </tr>\n",
       "    <tr>\n",
       "      <td>3</td>\n",
       "      <td>132</td>\n",
       "      <td>Suddenly got an I/O error from my external HDD</td>\n",
       "      <td>I have used my Raspberry Pi as a torrent-serve...</td>\n",
       "      <td>robbannn</td>\n",
       "      <td>https://raspberrypi.stackexchange.com/users/17341</td>\n",
       "      <td>Your Western Digital hard drive is disappearin...</td>\n",
       "      <td>HeatfanJohn</td>\n",
       "      <td>https://raspberrypi.stackexchange.com/users/1311</td>\n",
       "      <td>http://raspberrypi.stackexchange.com/questions...</td>\n",
       "      <td>TECHNOLOGY</td>\n",
       "      <td>raspberrypi.stackexchange.com</td>\n",
       "    </tr>\n",
       "    <tr>\n",
       "      <td>4</td>\n",
       "      <td>200</td>\n",
       "      <td>Passenger Name - Flight Booking Passenger only...</td>\n",
       "      <td>I have bought Delhi-London return flights for ...</td>\n",
       "      <td>Amit</td>\n",
       "      <td>https://travel.stackexchange.com/users/29089</td>\n",
       "      <td>I called two persons who work for Saudia (tick...</td>\n",
       "      <td>Nean Der Thal</td>\n",
       "      <td>https://travel.stackexchange.com/users/10051</td>\n",
       "      <td>http://travel.stackexchange.com/questions/4704...</td>\n",
       "      <td>CULTURE</td>\n",
       "      <td>travel.stackexchange.com</td>\n",
       "    </tr>\n",
       "    <tr>\n",
       "      <td>...</td>\n",
       "      <td>...</td>\n",
       "      <td>...</td>\n",
       "      <td>...</td>\n",
       "      <td>...</td>\n",
       "      <td>...</td>\n",
       "      <td>...</td>\n",
       "      <td>...</td>\n",
       "      <td>...</td>\n",
       "      <td>...</td>\n",
       "      <td>...</td>\n",
       "      <td>...</td>\n",
       "    </tr>\n",
       "    <tr>\n",
       "      <td>471</td>\n",
       "      <td>9569</td>\n",
       "      <td>change gb4e enumeration in only one chapter</td>\n",
       "      <td>I am using gb4e for glossing examples in my th...</td>\n",
       "      <td>ToddAO</td>\n",
       "      <td>https://tex.stackexchange.com/users/28332</td>\n",
       "      <td>You can simply reset the exx counter just afte...</td>\n",
       "      <td>karlkoeller</td>\n",
       "      <td>https://tex.stackexchange.com/users/27635</td>\n",
       "      <td>http://tex.stackexchange.com/questions/165120/...</td>\n",
       "      <td>TECHNOLOGY</td>\n",
       "      <td>tex.stackexchange.com</td>\n",
       "    </tr>\n",
       "    <tr>\n",
       "      <td>472</td>\n",
       "      <td>9590</td>\n",
       "      <td>All anagrams in a File</td>\n",
       "      <td>Source : Microsoft Interview Question\\n\\nWe ar...</td>\n",
       "      <td>Spandan</td>\n",
       "      <td>https://stackoverflow.com/users/2426101</td>\n",
       "      <td>Slightly different approach from the one above...</td>\n",
       "      <td>Algorithmatic</td>\n",
       "      <td>https://stackoverflow.com/users/1122229</td>\n",
       "      <td>http://stackoverflow.com/questions/16872513/al...</td>\n",
       "      <td>STACKOVERFLOW</td>\n",
       "      <td>stackoverflow.com</td>\n",
       "    </tr>\n",
       "    <tr>\n",
       "      <td>473</td>\n",
       "      <td>9597</td>\n",
       "      <td>SQL Server: Time Series Table Design</td>\n",
       "      <td>I am creating a time series database that foll...</td>\n",
       "      <td>Jay Michael</td>\n",
       "      <td>https://dba.stackexchange.com/users/47001</td>\n",
       "      <td>A foreign key can reference a unique constrain...</td>\n",
       "      <td>mustaccio</td>\n",
       "      <td>https://dba.stackexchange.com/users/23721</td>\n",
       "      <td>http://dba.stackexchange.com/questions/105287/...</td>\n",
       "      <td>TECHNOLOGY</td>\n",
       "      <td>dba.stackexchange.com</td>\n",
       "    </tr>\n",
       "    <tr>\n",
       "      <td>474</td>\n",
       "      <td>9623</td>\n",
       "      <td>Is a countered flashback spell exiled?</td>\n",
       "      <td>If I flashback Past in Flames and it is counte...</td>\n",
       "      <td>BolasStone</td>\n",
       "      <td>https://boardgames.stackexchange.com/users/9981</td>\n",
       "      <td>If you counter a spell cast for its Flashback ...</td>\n",
       "      <td>murgatroid99</td>\n",
       "      <td>https://boardgames.stackexchange.com/users/2537</td>\n",
       "      <td>http://boardgames.stackexchange.com/questions/...</td>\n",
       "      <td>CULTURE</td>\n",
       "      <td>boardgames.stackexchange.com</td>\n",
       "    </tr>\n",
       "    <tr>\n",
       "      <td>475</td>\n",
       "      <td>9640</td>\n",
       "      <td>Find Friends In-Game</td>\n",
       "      <td>Is there a way to mark friends you have queued...</td>\n",
       "      <td>Molten Ice</td>\n",
       "      <td>https://gaming.stackexchange.com/users/54729</td>\n",
       "      <td>Not officially, although you could both use cl...</td>\n",
       "      <td>Damon Smithies</td>\n",
       "      <td>https://gaming.stackexchange.com/users/70641</td>\n",
       "      <td>http://gaming.stackexchange.com/questions/1582...</td>\n",
       "      <td>CULTURE</td>\n",
       "      <td>gaming.stackexchange.com</td>\n",
       "    </tr>\n",
       "  </tbody>\n",
       "</table>\n",
       "<p>476 rows × 11 columns</p>\n",
       "</div>"
      ],
      "text/plain": [
       "     qa_id                                     question_title  \\\n",
       "0       39  Will leaving corpses lying around upset my pri...   \n",
       "1       46         Url link to feature image in the portfolio   \n",
       "2       70  Is accuracy, recoil or bullet spread affected ...   \n",
       "3      132     Suddenly got an I/O error from my external HDD   \n",
       "4      200  Passenger Name - Flight Booking Passenger only...   \n",
       "..     ...                                                ...   \n",
       "471   9569        change gb4e enumeration in only one chapter   \n",
       "472   9590                             All anagrams in a File   \n",
       "473   9597               SQL Server: Time Series Table Design   \n",
       "474   9623             Is a countered flashback spell exiled?   \n",
       "475   9640                               Find Friends In-Game   \n",
       "\n",
       "                                         question_body question_user_name  \\\n",
       "0    I see questions/information online about how t...              Dylan   \n",
       "1    I am new to Wordpress. i have issue with Featu...                Anu   \n",
       "2    To experiment I started a bot game, toggled in...             Konsta   \n",
       "3    I have used my Raspberry Pi as a torrent-serve...           robbannn   \n",
       "4    I have bought Delhi-London return flights for ...               Amit   \n",
       "..                                                 ...                ...   \n",
       "471  I am using gb4e for glossing examples in my th...             ToddAO   \n",
       "472  Source : Microsoft Interview Question\\n\\nWe ar...            Spandan   \n",
       "473  I am creating a time series database that foll...        Jay Michael   \n",
       "474  If I flashback Past in Flames and it is counte...         BolasStone   \n",
       "475  Is there a way to mark friends you have queued...         Molten Ice   \n",
       "\n",
       "                                    question_user_page  \\\n",
       "0         https://gaming.stackexchange.com/users/64471   \n",
       "1      https://wordpress.stackexchange.com/users/72927   \n",
       "2         https://gaming.stackexchange.com/users/37545   \n",
       "3    https://raspberrypi.stackexchange.com/users/17341   \n",
       "4         https://travel.stackexchange.com/users/29089   \n",
       "..                                                 ...   \n",
       "471          https://tex.stackexchange.com/users/28332   \n",
       "472            https://stackoverflow.com/users/2426101   \n",
       "473          https://dba.stackexchange.com/users/47001   \n",
       "474    https://boardgames.stackexchange.com/users/9981   \n",
       "475       https://gaming.stackexchange.com/users/54729   \n",
       "\n",
       "                                                answer answer_user_name  \\\n",
       "0    There is no consequence for leaving corpses an...        Nelson868   \n",
       "1    I think it is possible with custom fields.\\n\\n...            Irina   \n",
       "2    You do not have armour in the screenshots. Thi...   Damon Smithies   \n",
       "3    Your Western Digital hard drive is disappearin...      HeatfanJohn   \n",
       "4    I called two persons who work for Saudia (tick...    Nean Der Thal   \n",
       "..                                                 ...              ...   \n",
       "471  You can simply reset the exx counter just afte...      karlkoeller   \n",
       "472  Slightly different approach from the one above...    Algorithmatic   \n",
       "473  A foreign key can reference a unique constrain...        mustaccio   \n",
       "474  If you counter a spell cast for its Flashback ...     murgatroid99   \n",
       "475  Not officially, although you could both use cl...   Damon Smithies   \n",
       "\n",
       "                                     answer_user_page  \\\n",
       "0        https://gaming.stackexchange.com/users/97324   \n",
       "1     https://wordpress.stackexchange.com/users/27233   \n",
       "2        https://gaming.stackexchange.com/users/70641   \n",
       "3    https://raspberrypi.stackexchange.com/users/1311   \n",
       "4        https://travel.stackexchange.com/users/10051   \n",
       "..                                                ...   \n",
       "471         https://tex.stackexchange.com/users/27635   \n",
       "472           https://stackoverflow.com/users/1122229   \n",
       "473         https://dba.stackexchange.com/users/23721   \n",
       "474   https://boardgames.stackexchange.com/users/2537   \n",
       "475      https://gaming.stackexchange.com/users/70641   \n",
       "\n",
       "                                                   url       category  \\\n",
       "0    http://gaming.stackexchange.com/questions/1979...        CULTURE   \n",
       "1    http://wordpress.stackexchange.com/questions/1...     TECHNOLOGY   \n",
       "2    http://gaming.stackexchange.com/questions/2154...        CULTURE   \n",
       "3    http://raspberrypi.stackexchange.com/questions...     TECHNOLOGY   \n",
       "4    http://travel.stackexchange.com/questions/4704...        CULTURE   \n",
       "..                                                 ...            ...   \n",
       "471  http://tex.stackexchange.com/questions/165120/...     TECHNOLOGY   \n",
       "472  http://stackoverflow.com/questions/16872513/al...  STACKOVERFLOW   \n",
       "473  http://dba.stackexchange.com/questions/105287/...     TECHNOLOGY   \n",
       "474  http://boardgames.stackexchange.com/questions/...        CULTURE   \n",
       "475  http://gaming.stackexchange.com/questions/1582...        CULTURE   \n",
       "\n",
       "                              host  \n",
       "0         gaming.stackexchange.com  \n",
       "1      wordpress.stackexchange.com  \n",
       "2         gaming.stackexchange.com  \n",
       "3    raspberrypi.stackexchange.com  \n",
       "4         travel.stackexchange.com  \n",
       "..                             ...  \n",
       "471          tex.stackexchange.com  \n",
       "472              stackoverflow.com  \n",
       "473          dba.stackexchange.com  \n",
       "474   boardgames.stackexchange.com  \n",
       "475       gaming.stackexchange.com  \n",
       "\n",
       "[476 rows x 11 columns]"
      ]
     },
     "execution_count": 6,
     "metadata": {},
     "output_type": "execute_result"
    }
   ],
   "source": [
    "# exploring test data\n",
    "test # 474 Q&A pairs"
   ]
  },
  {
   "cell_type": "code",
   "execution_count": 7,
   "metadata": {},
   "outputs": [
    {
     "data": {
      "text/plain": [
       "Index(['qa_id', 'question_title', 'question_body', 'question_user_name',\n",
       "       'question_user_page', 'answer', 'answer_user_name', 'answer_user_page',\n",
       "       'url', 'category', 'host'],\n",
       "      dtype='object')"
      ]
     },
     "execution_count": 7,
     "metadata": {},
     "output_type": "execute_result"
    }
   ],
   "source": [
    "test.columns # target labels missing"
   ]
  },
  {
   "cell_type": "code",
   "execution_count": 8,
   "metadata": {},
   "outputs": [
    {
     "data": {
      "text/html": [
       "<div>\n",
       "<style scoped>\n",
       "    .dataframe tbody tr th:only-of-type {\n",
       "        vertical-align: middle;\n",
       "    }\n",
       "\n",
       "    .dataframe tbody tr th {\n",
       "        vertical-align: top;\n",
       "    }\n",
       "\n",
       "    .dataframe thead th {\n",
       "        text-align: right;\n",
       "    }\n",
       "</style>\n",
       "<table border=\"1\" class=\"dataframe\">\n",
       "  <thead>\n",
       "    <tr style=\"text-align: right;\">\n",
       "      <th></th>\n",
       "      <th>qa_id</th>\n",
       "      <th>question_asker_intent_understanding</th>\n",
       "      <th>question_body_critical</th>\n",
       "      <th>question_conversational</th>\n",
       "      <th>question_expect_short_answer</th>\n",
       "      <th>question_fact_seeking</th>\n",
       "      <th>question_has_commonly_accepted_answer</th>\n",
       "      <th>question_interestingness_others</th>\n",
       "      <th>question_interestingness_self</th>\n",
       "      <th>question_multi_intent</th>\n",
       "      <th>...</th>\n",
       "      <th>question_well_written</th>\n",
       "      <th>answer_helpful</th>\n",
       "      <th>answer_level_of_information</th>\n",
       "      <th>answer_plausible</th>\n",
       "      <th>answer_relevance</th>\n",
       "      <th>answer_satisfaction</th>\n",
       "      <th>answer_type_instructions</th>\n",
       "      <th>answer_type_procedure</th>\n",
       "      <th>answer_type_reason_explanation</th>\n",
       "      <th>answer_well_written</th>\n",
       "    </tr>\n",
       "  </thead>\n",
       "  <tbody>\n",
       "    <tr>\n",
       "      <td>0</td>\n",
       "      <td>39</td>\n",
       "      <td>0.00308</td>\n",
       "      <td>0.00308</td>\n",
       "      <td>0.00308</td>\n",
       "      <td>0.00308</td>\n",
       "      <td>0.00308</td>\n",
       "      <td>0.00308</td>\n",
       "      <td>0.00308</td>\n",
       "      <td>0.00308</td>\n",
       "      <td>0.00308</td>\n",
       "      <td>...</td>\n",
       "      <td>0.00308</td>\n",
       "      <td>0.00308</td>\n",
       "      <td>0.00308</td>\n",
       "      <td>0.00308</td>\n",
       "      <td>0.00308</td>\n",
       "      <td>0.00308</td>\n",
       "      <td>0.00308</td>\n",
       "      <td>0.00308</td>\n",
       "      <td>0.00308</td>\n",
       "      <td>0.00308</td>\n",
       "    </tr>\n",
       "    <tr>\n",
       "      <td>1</td>\n",
       "      <td>46</td>\n",
       "      <td>0.00448</td>\n",
       "      <td>0.00448</td>\n",
       "      <td>0.00448</td>\n",
       "      <td>0.00448</td>\n",
       "      <td>0.00448</td>\n",
       "      <td>0.00448</td>\n",
       "      <td>0.00448</td>\n",
       "      <td>0.00448</td>\n",
       "      <td>0.00448</td>\n",
       "      <td>...</td>\n",
       "      <td>0.00448</td>\n",
       "      <td>0.00448</td>\n",
       "      <td>0.00448</td>\n",
       "      <td>0.00448</td>\n",
       "      <td>0.00448</td>\n",
       "      <td>0.00448</td>\n",
       "      <td>0.00448</td>\n",
       "      <td>0.00448</td>\n",
       "      <td>0.00448</td>\n",
       "      <td>0.00448</td>\n",
       "    </tr>\n",
       "    <tr>\n",
       "      <td>2</td>\n",
       "      <td>70</td>\n",
       "      <td>0.00673</td>\n",
       "      <td>0.00673</td>\n",
       "      <td>0.00673</td>\n",
       "      <td>0.00673</td>\n",
       "      <td>0.00673</td>\n",
       "      <td>0.00673</td>\n",
       "      <td>0.00673</td>\n",
       "      <td>0.00673</td>\n",
       "      <td>0.00673</td>\n",
       "      <td>...</td>\n",
       "      <td>0.00673</td>\n",
       "      <td>0.00673</td>\n",
       "      <td>0.00673</td>\n",
       "      <td>0.00673</td>\n",
       "      <td>0.00673</td>\n",
       "      <td>0.00673</td>\n",
       "      <td>0.00673</td>\n",
       "      <td>0.00673</td>\n",
       "      <td>0.00673</td>\n",
       "      <td>0.00673</td>\n",
       "    </tr>\n",
       "    <tr>\n",
       "      <td>3</td>\n",
       "      <td>132</td>\n",
       "      <td>0.01401</td>\n",
       "      <td>0.01401</td>\n",
       "      <td>0.01401</td>\n",
       "      <td>0.01401</td>\n",
       "      <td>0.01401</td>\n",
       "      <td>0.01401</td>\n",
       "      <td>0.01401</td>\n",
       "      <td>0.01401</td>\n",
       "      <td>0.01401</td>\n",
       "      <td>...</td>\n",
       "      <td>0.01401</td>\n",
       "      <td>0.01401</td>\n",
       "      <td>0.01401</td>\n",
       "      <td>0.01401</td>\n",
       "      <td>0.01401</td>\n",
       "      <td>0.01401</td>\n",
       "      <td>0.01401</td>\n",
       "      <td>0.01401</td>\n",
       "      <td>0.01401</td>\n",
       "      <td>0.01401</td>\n",
       "    </tr>\n",
       "    <tr>\n",
       "      <td>4</td>\n",
       "      <td>200</td>\n",
       "      <td>0.02074</td>\n",
       "      <td>0.02074</td>\n",
       "      <td>0.02074</td>\n",
       "      <td>0.02074</td>\n",
       "      <td>0.02074</td>\n",
       "      <td>0.02074</td>\n",
       "      <td>0.02074</td>\n",
       "      <td>0.02074</td>\n",
       "      <td>0.02074</td>\n",
       "      <td>...</td>\n",
       "      <td>0.02074</td>\n",
       "      <td>0.02074</td>\n",
       "      <td>0.02074</td>\n",
       "      <td>0.02074</td>\n",
       "      <td>0.02074</td>\n",
       "      <td>0.02074</td>\n",
       "      <td>0.02074</td>\n",
       "      <td>0.02074</td>\n",
       "      <td>0.02074</td>\n",
       "      <td>0.02074</td>\n",
       "    </tr>\n",
       "    <tr>\n",
       "      <td>...</td>\n",
       "      <td>...</td>\n",
       "      <td>...</td>\n",
       "      <td>...</td>\n",
       "      <td>...</td>\n",
       "      <td>...</td>\n",
       "      <td>...</td>\n",
       "      <td>...</td>\n",
       "      <td>...</td>\n",
       "      <td>...</td>\n",
       "      <td>...</td>\n",
       "      <td>...</td>\n",
       "      <td>...</td>\n",
       "      <td>...</td>\n",
       "      <td>...</td>\n",
       "      <td>...</td>\n",
       "      <td>...</td>\n",
       "      <td>...</td>\n",
       "      <td>...</td>\n",
       "      <td>...</td>\n",
       "      <td>...</td>\n",
       "      <td>...</td>\n",
       "    </tr>\n",
       "    <tr>\n",
       "      <td>471</td>\n",
       "      <td>9569</td>\n",
       "      <td>0.99159</td>\n",
       "      <td>0.99159</td>\n",
       "      <td>0.99159</td>\n",
       "      <td>0.99159</td>\n",
       "      <td>0.99159</td>\n",
       "      <td>0.99159</td>\n",
       "      <td>0.99159</td>\n",
       "      <td>0.99159</td>\n",
       "      <td>0.99159</td>\n",
       "      <td>...</td>\n",
       "      <td>0.99159</td>\n",
       "      <td>0.99159</td>\n",
       "      <td>0.99159</td>\n",
       "      <td>0.99159</td>\n",
       "      <td>0.99159</td>\n",
       "      <td>0.99159</td>\n",
       "      <td>0.99159</td>\n",
       "      <td>0.99159</td>\n",
       "      <td>0.99159</td>\n",
       "      <td>0.99159</td>\n",
       "    </tr>\n",
       "    <tr>\n",
       "      <td>472</td>\n",
       "      <td>9590</td>\n",
       "      <td>0.99355</td>\n",
       "      <td>0.99355</td>\n",
       "      <td>0.99355</td>\n",
       "      <td>0.99355</td>\n",
       "      <td>0.99355</td>\n",
       "      <td>0.99355</td>\n",
       "      <td>0.99355</td>\n",
       "      <td>0.99355</td>\n",
       "      <td>0.99355</td>\n",
       "      <td>...</td>\n",
       "      <td>0.99355</td>\n",
       "      <td>0.99355</td>\n",
       "      <td>0.99355</td>\n",
       "      <td>0.99355</td>\n",
       "      <td>0.99355</td>\n",
       "      <td>0.99355</td>\n",
       "      <td>0.99355</td>\n",
       "      <td>0.99355</td>\n",
       "      <td>0.99355</td>\n",
       "      <td>0.99355</td>\n",
       "    </tr>\n",
       "    <tr>\n",
       "      <td>473</td>\n",
       "      <td>9597</td>\n",
       "      <td>0.99467</td>\n",
       "      <td>0.99467</td>\n",
       "      <td>0.99467</td>\n",
       "      <td>0.99467</td>\n",
       "      <td>0.99467</td>\n",
       "      <td>0.99467</td>\n",
       "      <td>0.99467</td>\n",
       "      <td>0.99467</td>\n",
       "      <td>0.99467</td>\n",
       "      <td>...</td>\n",
       "      <td>0.99467</td>\n",
       "      <td>0.99467</td>\n",
       "      <td>0.99467</td>\n",
       "      <td>0.99467</td>\n",
       "      <td>0.99467</td>\n",
       "      <td>0.99467</td>\n",
       "      <td>0.99467</td>\n",
       "      <td>0.99467</td>\n",
       "      <td>0.99467</td>\n",
       "      <td>0.99467</td>\n",
       "    </tr>\n",
       "    <tr>\n",
       "      <td>474</td>\n",
       "      <td>9623</td>\n",
       "      <td>0.99720</td>\n",
       "      <td>0.99720</td>\n",
       "      <td>0.99720</td>\n",
       "      <td>0.99720</td>\n",
       "      <td>0.99720</td>\n",
       "      <td>0.99720</td>\n",
       "      <td>0.99720</td>\n",
       "      <td>0.99720</td>\n",
       "      <td>0.99720</td>\n",
       "      <td>...</td>\n",
       "      <td>0.99720</td>\n",
       "      <td>0.99720</td>\n",
       "      <td>0.99720</td>\n",
       "      <td>0.99720</td>\n",
       "      <td>0.99720</td>\n",
       "      <td>0.99720</td>\n",
       "      <td>0.99720</td>\n",
       "      <td>0.99720</td>\n",
       "      <td>0.99720</td>\n",
       "      <td>0.99720</td>\n",
       "    </tr>\n",
       "    <tr>\n",
       "      <td>475</td>\n",
       "      <td>9640</td>\n",
       "      <td>0.99972</td>\n",
       "      <td>0.99972</td>\n",
       "      <td>0.99972</td>\n",
       "      <td>0.99972</td>\n",
       "      <td>0.99972</td>\n",
       "      <td>0.99972</td>\n",
       "      <td>0.99972</td>\n",
       "      <td>0.99972</td>\n",
       "      <td>0.99972</td>\n",
       "      <td>...</td>\n",
       "      <td>0.99972</td>\n",
       "      <td>0.99972</td>\n",
       "      <td>0.99972</td>\n",
       "      <td>0.99972</td>\n",
       "      <td>0.99972</td>\n",
       "      <td>0.99972</td>\n",
       "      <td>0.99972</td>\n",
       "      <td>0.99972</td>\n",
       "      <td>0.99972</td>\n",
       "      <td>0.99972</td>\n",
       "    </tr>\n",
       "  </tbody>\n",
       "</table>\n",
       "<p>476 rows × 31 columns</p>\n",
       "</div>"
      ],
      "text/plain": [
       "     qa_id  question_asker_intent_understanding  question_body_critical  \\\n",
       "0       39                              0.00308                 0.00308   \n",
       "1       46                              0.00448                 0.00448   \n",
       "2       70                              0.00673                 0.00673   \n",
       "3      132                              0.01401                 0.01401   \n",
       "4      200                              0.02074                 0.02074   \n",
       "..     ...                                  ...                     ...   \n",
       "471   9569                              0.99159                 0.99159   \n",
       "472   9590                              0.99355                 0.99355   \n",
       "473   9597                              0.99467                 0.99467   \n",
       "474   9623                              0.99720                 0.99720   \n",
       "475   9640                              0.99972                 0.99972   \n",
       "\n",
       "     question_conversational  question_expect_short_answer  \\\n",
       "0                    0.00308                       0.00308   \n",
       "1                    0.00448                       0.00448   \n",
       "2                    0.00673                       0.00673   \n",
       "3                    0.01401                       0.01401   \n",
       "4                    0.02074                       0.02074   \n",
       "..                       ...                           ...   \n",
       "471                  0.99159                       0.99159   \n",
       "472                  0.99355                       0.99355   \n",
       "473                  0.99467                       0.99467   \n",
       "474                  0.99720                       0.99720   \n",
       "475                  0.99972                       0.99972   \n",
       "\n",
       "     question_fact_seeking  question_has_commonly_accepted_answer  \\\n",
       "0                  0.00308                                0.00308   \n",
       "1                  0.00448                                0.00448   \n",
       "2                  0.00673                                0.00673   \n",
       "3                  0.01401                                0.01401   \n",
       "4                  0.02074                                0.02074   \n",
       "..                     ...                                    ...   \n",
       "471                0.99159                                0.99159   \n",
       "472                0.99355                                0.99355   \n",
       "473                0.99467                                0.99467   \n",
       "474                0.99720                                0.99720   \n",
       "475                0.99972                                0.99972   \n",
       "\n",
       "     question_interestingness_others  question_interestingness_self  \\\n",
       "0                            0.00308                        0.00308   \n",
       "1                            0.00448                        0.00448   \n",
       "2                            0.00673                        0.00673   \n",
       "3                            0.01401                        0.01401   \n",
       "4                            0.02074                        0.02074   \n",
       "..                               ...                            ...   \n",
       "471                          0.99159                        0.99159   \n",
       "472                          0.99355                        0.99355   \n",
       "473                          0.99467                        0.99467   \n",
       "474                          0.99720                        0.99720   \n",
       "475                          0.99972                        0.99972   \n",
       "\n",
       "     question_multi_intent  ...  question_well_written  answer_helpful  \\\n",
       "0                  0.00308  ...                0.00308         0.00308   \n",
       "1                  0.00448  ...                0.00448         0.00448   \n",
       "2                  0.00673  ...                0.00673         0.00673   \n",
       "3                  0.01401  ...                0.01401         0.01401   \n",
       "4                  0.02074  ...                0.02074         0.02074   \n",
       "..                     ...  ...                    ...             ...   \n",
       "471                0.99159  ...                0.99159         0.99159   \n",
       "472                0.99355  ...                0.99355         0.99355   \n",
       "473                0.99467  ...                0.99467         0.99467   \n",
       "474                0.99720  ...                0.99720         0.99720   \n",
       "475                0.99972  ...                0.99972         0.99972   \n",
       "\n",
       "     answer_level_of_information  answer_plausible  answer_relevance  \\\n",
       "0                        0.00308           0.00308           0.00308   \n",
       "1                        0.00448           0.00448           0.00448   \n",
       "2                        0.00673           0.00673           0.00673   \n",
       "3                        0.01401           0.01401           0.01401   \n",
       "4                        0.02074           0.02074           0.02074   \n",
       "..                           ...               ...               ...   \n",
       "471                      0.99159           0.99159           0.99159   \n",
       "472                      0.99355           0.99355           0.99355   \n",
       "473                      0.99467           0.99467           0.99467   \n",
       "474                      0.99720           0.99720           0.99720   \n",
       "475                      0.99972           0.99972           0.99972   \n",
       "\n",
       "     answer_satisfaction  answer_type_instructions  answer_type_procedure  \\\n",
       "0                0.00308                   0.00308                0.00308   \n",
       "1                0.00448                   0.00448                0.00448   \n",
       "2                0.00673                   0.00673                0.00673   \n",
       "3                0.01401                   0.01401                0.01401   \n",
       "4                0.02074                   0.02074                0.02074   \n",
       "..                   ...                       ...                    ...   \n",
       "471              0.99159                   0.99159                0.99159   \n",
       "472              0.99355                   0.99355                0.99355   \n",
       "473              0.99467                   0.99467                0.99467   \n",
       "474              0.99720                   0.99720                0.99720   \n",
       "475              0.99972                   0.99972                0.99972   \n",
       "\n",
       "     answer_type_reason_explanation  answer_well_written  \n",
       "0                           0.00308              0.00308  \n",
       "1                           0.00448              0.00448  \n",
       "2                           0.00673              0.00673  \n",
       "3                           0.01401              0.01401  \n",
       "4                           0.02074              0.02074  \n",
       "..                              ...                  ...  \n",
       "471                         0.99159              0.99159  \n",
       "472                         0.99355              0.99355  \n",
       "473                         0.99467              0.99467  \n",
       "474                         0.99720              0.99720  \n",
       "475                         0.99972              0.99972  \n",
       "\n",
       "[476 rows x 31 columns]"
      ]
     },
     "execution_count": 8,
     "metadata": {},
     "output_type": "execute_result"
    }
   ],
   "source": [
    "# exploring sample submission data\n",
    "sample_submission # 476 Q&A pairs, same as test data"
   ]
  },
  {
   "cell_type": "code",
   "execution_count": 9,
   "metadata": {},
   "outputs": [
    {
     "data": {
      "text/plain": [
       "Index(['qa_id', 'question_asker_intent_understanding',\n",
       "       'question_body_critical', 'question_conversational',\n",
       "       'question_expect_short_answer', 'question_fact_seeking',\n",
       "       'question_has_commonly_accepted_answer',\n",
       "       'question_interestingness_others', 'question_interestingness_self',\n",
       "       'question_multi_intent', 'question_not_really_a_question',\n",
       "       'question_opinion_seeking', 'question_type_choice',\n",
       "       'question_type_compare', 'question_type_consequence',\n",
       "       'question_type_definition', 'question_type_entity',\n",
       "       'question_type_instructions', 'question_type_procedure',\n",
       "       'question_type_reason_explanation', 'question_type_spelling',\n",
       "       'question_well_written', 'answer_helpful',\n",
       "       'answer_level_of_information', 'answer_plausible', 'answer_relevance',\n",
       "       'answer_satisfaction', 'answer_type_instructions',\n",
       "       'answer_type_procedure', 'answer_type_reason_explanation',\n",
       "       'answer_well_written'],\n",
       "      dtype='object')"
      ]
     },
     "execution_count": 9,
     "metadata": {},
     "output_type": "execute_result"
    }
   ],
   "source": [
    "sample_submission.columns # target labels present"
   ]
  },
  {
   "cell_type": "markdown",
   "metadata": {},
   "source": [
    "#### Statistical summary of train data"
   ]
  },
  {
   "cell_type": "code",
   "execution_count": 44,
   "metadata": {},
   "outputs": [
    {
     "data": {
      "text/html": [
       "<div>\n",
       "<style scoped>\n",
       "    .dataframe tbody tr th:only-of-type {\n",
       "        vertical-align: middle;\n",
       "    }\n",
       "\n",
       "    .dataframe tbody tr th {\n",
       "        vertical-align: top;\n",
       "    }\n",
       "\n",
       "    .dataframe thead th {\n",
       "        text-align: right;\n",
       "    }\n",
       "</style>\n",
       "<table border=\"1\" class=\"dataframe\">\n",
       "  <thead>\n",
       "    <tr style=\"text-align: right;\">\n",
       "      <th></th>\n",
       "      <th>question_asker_intent_understanding</th>\n",
       "      <th>question_body_critical</th>\n",
       "      <th>question_conversational</th>\n",
       "      <th>question_expect_short_answer</th>\n",
       "      <th>question_fact_seeking</th>\n",
       "      <th>question_has_commonly_accepted_answer</th>\n",
       "      <th>question_interestingness_others</th>\n",
       "      <th>question_interestingness_self</th>\n",
       "      <th>question_multi_intent</th>\n",
       "      <th>question_not_really_a_question</th>\n",
       "      <th>...</th>\n",
       "      <th>question_well_written</th>\n",
       "      <th>answer_helpful</th>\n",
       "      <th>answer_level_of_information</th>\n",
       "      <th>answer_plausible</th>\n",
       "      <th>answer_relevance</th>\n",
       "      <th>answer_satisfaction</th>\n",
       "      <th>answer_type_instructions</th>\n",
       "      <th>answer_type_procedure</th>\n",
       "      <th>answer_type_reason_explanation</th>\n",
       "      <th>answer_well_written</th>\n",
       "    </tr>\n",
       "  </thead>\n",
       "  <tbody>\n",
       "    <tr>\n",
       "      <td>count</td>\n",
       "      <td>6079.000000</td>\n",
       "      <td>6079.000000</td>\n",
       "      <td>6079.000000</td>\n",
       "      <td>6079.000000</td>\n",
       "      <td>6079.000000</td>\n",
       "      <td>6079.000000</td>\n",
       "      <td>6079.000000</td>\n",
       "      <td>6079.000000</td>\n",
       "      <td>6079.000000</td>\n",
       "      <td>6079.000000</td>\n",
       "      <td>...</td>\n",
       "      <td>6079.000000</td>\n",
       "      <td>6079.000000</td>\n",
       "      <td>6079.000000</td>\n",
       "      <td>6079.000000</td>\n",
       "      <td>6079.000000</td>\n",
       "      <td>6079.000000</td>\n",
       "      <td>6079.000000</td>\n",
       "      <td>6079.000000</td>\n",
       "      <td>6079.000000</td>\n",
       "      <td>6079.000000</td>\n",
       "    </tr>\n",
       "    <tr>\n",
       "      <td>mean</td>\n",
       "      <td>0.892663</td>\n",
       "      <td>0.595301</td>\n",
       "      <td>0.057301</td>\n",
       "      <td>0.698525</td>\n",
       "      <td>0.772633</td>\n",
       "      <td>0.793689</td>\n",
       "      <td>0.587478</td>\n",
       "      <td>0.507275</td>\n",
       "      <td>0.238745</td>\n",
       "      <td>0.004469</td>\n",
       "      <td>...</td>\n",
       "      <td>0.799931</td>\n",
       "      <td>0.925408</td>\n",
       "      <td>0.654823</td>\n",
       "      <td>0.960054</td>\n",
       "      <td>0.968626</td>\n",
       "      <td>0.854680</td>\n",
       "      <td>0.479547</td>\n",
       "      <td>0.130641</td>\n",
       "      <td>0.502468</td>\n",
       "      <td>0.908254</td>\n",
       "    </tr>\n",
       "    <tr>\n",
       "      <td>std</td>\n",
       "      <td>0.132047</td>\n",
       "      <td>0.219470</td>\n",
       "      <td>0.182196</td>\n",
       "      <td>0.350938</td>\n",
       "      <td>0.303023</td>\n",
       "      <td>0.336622</td>\n",
       "      <td>0.135900</td>\n",
       "      <td>0.185987</td>\n",
       "      <td>0.335057</td>\n",
       "      <td>0.045782</td>\n",
       "      <td>...</td>\n",
       "      <td>0.178420</td>\n",
       "      <td>0.114836</td>\n",
       "      <td>0.107666</td>\n",
       "      <td>0.086926</td>\n",
       "      <td>0.074631</td>\n",
       "      <td>0.130743</td>\n",
       "      <td>0.422921</td>\n",
       "      <td>0.225718</td>\n",
       "      <td>0.407097</td>\n",
       "      <td>0.100708</td>\n",
       "    </tr>\n",
       "    <tr>\n",
       "      <td>min</td>\n",
       "      <td>0.333333</td>\n",
       "      <td>0.333333</td>\n",
       "      <td>0.000000</td>\n",
       "      <td>0.000000</td>\n",
       "      <td>0.000000</td>\n",
       "      <td>0.000000</td>\n",
       "      <td>0.333333</td>\n",
       "      <td>0.333333</td>\n",
       "      <td>0.000000</td>\n",
       "      <td>0.000000</td>\n",
       "      <td>...</td>\n",
       "      <td>0.333333</td>\n",
       "      <td>0.333333</td>\n",
       "      <td>0.333333</td>\n",
       "      <td>0.333333</td>\n",
       "      <td>0.333333</td>\n",
       "      <td>0.200000</td>\n",
       "      <td>0.000000</td>\n",
       "      <td>0.000000</td>\n",
       "      <td>0.000000</td>\n",
       "      <td>0.333333</td>\n",
       "    </tr>\n",
       "    <tr>\n",
       "      <td>25%</td>\n",
       "      <td>0.777778</td>\n",
       "      <td>0.444444</td>\n",
       "      <td>0.000000</td>\n",
       "      <td>0.500000</td>\n",
       "      <td>0.666667</td>\n",
       "      <td>0.666667</td>\n",
       "      <td>0.444444</td>\n",
       "      <td>0.333333</td>\n",
       "      <td>0.000000</td>\n",
       "      <td>0.000000</td>\n",
       "      <td>...</td>\n",
       "      <td>0.666667</td>\n",
       "      <td>0.888889</td>\n",
       "      <td>0.666667</td>\n",
       "      <td>1.000000</td>\n",
       "      <td>1.000000</td>\n",
       "      <td>0.800000</td>\n",
       "      <td>0.000000</td>\n",
       "      <td>0.000000</td>\n",
       "      <td>0.000000</td>\n",
       "      <td>0.888889</td>\n",
       "    </tr>\n",
       "    <tr>\n",
       "      <td>50%</td>\n",
       "      <td>0.888889</td>\n",
       "      <td>0.555556</td>\n",
       "      <td>0.000000</td>\n",
       "      <td>0.666667</td>\n",
       "      <td>1.000000</td>\n",
       "      <td>1.000000</td>\n",
       "      <td>0.555556</td>\n",
       "      <td>0.444444</td>\n",
       "      <td>0.000000</td>\n",
       "      <td>0.000000</td>\n",
       "      <td>...</td>\n",
       "      <td>0.833333</td>\n",
       "      <td>1.000000</td>\n",
       "      <td>0.666667</td>\n",
       "      <td>1.000000</td>\n",
       "      <td>1.000000</td>\n",
       "      <td>0.866667</td>\n",
       "      <td>0.500000</td>\n",
       "      <td>0.000000</td>\n",
       "      <td>0.500000</td>\n",
       "      <td>0.888889</td>\n",
       "    </tr>\n",
       "    <tr>\n",
       "      <td>75%</td>\n",
       "      <td>1.000000</td>\n",
       "      <td>0.777778</td>\n",
       "      <td>0.000000</td>\n",
       "      <td>1.000000</td>\n",
       "      <td>1.000000</td>\n",
       "      <td>1.000000</td>\n",
       "      <td>0.666667</td>\n",
       "      <td>0.666667</td>\n",
       "      <td>0.333333</td>\n",
       "      <td>0.000000</td>\n",
       "      <td>...</td>\n",
       "      <td>1.000000</td>\n",
       "      <td>1.000000</td>\n",
       "      <td>0.666667</td>\n",
       "      <td>1.000000</td>\n",
       "      <td>1.000000</td>\n",
       "      <td>0.933333</td>\n",
       "      <td>1.000000</td>\n",
       "      <td>0.333333</td>\n",
       "      <td>1.000000</td>\n",
       "      <td>1.000000</td>\n",
       "    </tr>\n",
       "    <tr>\n",
       "      <td>max</td>\n",
       "      <td>1.000000</td>\n",
       "      <td>1.000000</td>\n",
       "      <td>1.000000</td>\n",
       "      <td>1.000000</td>\n",
       "      <td>1.000000</td>\n",
       "      <td>1.000000</td>\n",
       "      <td>1.000000</td>\n",
       "      <td>1.000000</td>\n",
       "      <td>1.000000</td>\n",
       "      <td>1.000000</td>\n",
       "      <td>...</td>\n",
       "      <td>1.000000</td>\n",
       "      <td>1.000000</td>\n",
       "      <td>1.000000</td>\n",
       "      <td>1.000000</td>\n",
       "      <td>1.000000</td>\n",
       "      <td>1.000000</td>\n",
       "      <td>1.000000</td>\n",
       "      <td>1.000000</td>\n",
       "      <td>1.000000</td>\n",
       "      <td>1.000000</td>\n",
       "    </tr>\n",
       "  </tbody>\n",
       "</table>\n",
       "<p>8 rows × 30 columns</p>\n",
       "</div>"
      ],
      "text/plain": [
       "       question_asker_intent_understanding  question_body_critical  \\\n",
       "count                          6079.000000             6079.000000   \n",
       "mean                              0.892663                0.595301   \n",
       "std                               0.132047                0.219470   \n",
       "min                               0.333333                0.333333   \n",
       "25%                               0.777778                0.444444   \n",
       "50%                               0.888889                0.555556   \n",
       "75%                               1.000000                0.777778   \n",
       "max                               1.000000                1.000000   \n",
       "\n",
       "       question_conversational  question_expect_short_answer  \\\n",
       "count              6079.000000                   6079.000000   \n",
       "mean                  0.057301                      0.698525   \n",
       "std                   0.182196                      0.350938   \n",
       "min                   0.000000                      0.000000   \n",
       "25%                   0.000000                      0.500000   \n",
       "50%                   0.000000                      0.666667   \n",
       "75%                   0.000000                      1.000000   \n",
       "max                   1.000000                      1.000000   \n",
       "\n",
       "       question_fact_seeking  question_has_commonly_accepted_answer  \\\n",
       "count            6079.000000                            6079.000000   \n",
       "mean                0.772633                               0.793689   \n",
       "std                 0.303023                               0.336622   \n",
       "min                 0.000000                               0.000000   \n",
       "25%                 0.666667                               0.666667   \n",
       "50%                 1.000000                               1.000000   \n",
       "75%                 1.000000                               1.000000   \n",
       "max                 1.000000                               1.000000   \n",
       "\n",
       "       question_interestingness_others  question_interestingness_self  \\\n",
       "count                      6079.000000                    6079.000000   \n",
       "mean                          0.587478                       0.507275   \n",
       "std                           0.135900                       0.185987   \n",
       "min                           0.333333                       0.333333   \n",
       "25%                           0.444444                       0.333333   \n",
       "50%                           0.555556                       0.444444   \n",
       "75%                           0.666667                       0.666667   \n",
       "max                           1.000000                       1.000000   \n",
       "\n",
       "       question_multi_intent  question_not_really_a_question  ...  \\\n",
       "count            6079.000000                     6079.000000  ...   \n",
       "mean                0.238745                        0.004469  ...   \n",
       "std                 0.335057                        0.045782  ...   \n",
       "min                 0.000000                        0.000000  ...   \n",
       "25%                 0.000000                        0.000000  ...   \n",
       "50%                 0.000000                        0.000000  ...   \n",
       "75%                 0.333333                        0.000000  ...   \n",
       "max                 1.000000                        1.000000  ...   \n",
       "\n",
       "       question_well_written  answer_helpful  answer_level_of_information  \\\n",
       "count            6079.000000     6079.000000                  6079.000000   \n",
       "mean                0.799931        0.925408                     0.654823   \n",
       "std                 0.178420        0.114836                     0.107666   \n",
       "min                 0.333333        0.333333                     0.333333   \n",
       "25%                 0.666667        0.888889                     0.666667   \n",
       "50%                 0.833333        1.000000                     0.666667   \n",
       "75%                 1.000000        1.000000                     0.666667   \n",
       "max                 1.000000        1.000000                     1.000000   \n",
       "\n",
       "       answer_plausible  answer_relevance  answer_satisfaction  \\\n",
       "count       6079.000000       6079.000000          6079.000000   \n",
       "mean           0.960054          0.968626             0.854680   \n",
       "std            0.086926          0.074631             0.130743   \n",
       "min            0.333333          0.333333             0.200000   \n",
       "25%            1.000000          1.000000             0.800000   \n",
       "50%            1.000000          1.000000             0.866667   \n",
       "75%            1.000000          1.000000             0.933333   \n",
       "max            1.000000          1.000000             1.000000   \n",
       "\n",
       "       answer_type_instructions  answer_type_procedure  \\\n",
       "count               6079.000000            6079.000000   \n",
       "mean                   0.479547               0.130641   \n",
       "std                    0.422921               0.225718   \n",
       "min                    0.000000               0.000000   \n",
       "25%                    0.000000               0.000000   \n",
       "50%                    0.500000               0.000000   \n",
       "75%                    1.000000               0.333333   \n",
       "max                    1.000000               1.000000   \n",
       "\n",
       "       answer_type_reason_explanation  answer_well_written  \n",
       "count                     6079.000000          6079.000000  \n",
       "mean                         0.502468             0.908254  \n",
       "std                          0.407097             0.100708  \n",
       "min                          0.000000             0.333333  \n",
       "25%                          0.000000             0.888889  \n",
       "50%                          0.500000             0.888889  \n",
       "75%                          1.000000             1.000000  \n",
       "max                          1.000000             1.000000  \n",
       "\n",
       "[8 rows x 30 columns]"
      ]
     },
     "execution_count": 44,
     "metadata": {},
     "output_type": "execute_result"
    }
   ],
   "source": [
    "train[sample_submission.columns[1:]].describe()"
   ]
  },
  {
   "cell_type": "code",
   "execution_count": 40,
   "metadata": {},
   "outputs": [
    {
     "data": {
      "image/png": "[encoded data removed]",
      "text/plain": [
       "<Figure size 1080x864 with 30 Axes>"
      ]
     },
     "metadata": {
      "needs_background": "light"
     },
     "output_type": "display_data"
    }
   ],
   "source": [
    "fig, axes = plt.subplots(6, 5, figsize=(15, 12))\n",
    "axes = axes.ravel()\n",
    "bins = np.linspace(0, 1, 20)\n",
    "\n",
    "for i, col in enumerate(sample_submission.columns[1:]):\n",
    "    ax = axes[i]\n",
    "    sns.distplot(train[col], label=col, kde=False, bins=bins, ax=ax)\n",
    "    ax.set_xlim([0, 1])\n",
    "    ax.set_ylim([0, 6079])\n",
    "plt.tight_layout()\n",
    "plt.show()\n",
    "plt.close()"
   ]
  },
  {
   "cell_type": "markdown",
   "metadata": {},
   "source": [
    "#### Duplicate and missing values in train data"
   ]
  },
  {
   "cell_type": "code",
   "execution_count": 46,
   "metadata": {},
   "outputs": [
    {
     "data": {
      "text/html": [
       "<div>\n",
       "<style scoped>\n",
       "    .dataframe tbody tr th:only-of-type {\n",
       "        vertical-align: middle;\n",
       "    }\n",
       "\n",
       "    .dataframe tbody tr th {\n",
       "        vertical-align: top;\n",
       "    }\n",
       "\n",
       "    .dataframe thead th {\n",
       "        text-align: right;\n",
       "    }\n",
       "</style>\n",
       "<table border=\"1\" class=\"dataframe\">\n",
       "  <thead>\n",
       "    <tr style=\"text-align: right;\">\n",
       "      <th></th>\n",
       "      <th>qa_id</th>\n",
       "      <th>question_title</th>\n",
       "      <th>question_body</th>\n",
       "      <th>question_user_name</th>\n",
       "      <th>question_user_page</th>\n",
       "      <th>answer</th>\n",
       "      <th>answer_user_name</th>\n",
       "      <th>answer_user_page</th>\n",
       "      <th>url</th>\n",
       "      <th>category</th>\n",
       "      <th>...</th>\n",
       "      <th>question_well_written</th>\n",
       "      <th>answer_helpful</th>\n",
       "      <th>answer_level_of_information</th>\n",
       "      <th>answer_plausible</th>\n",
       "      <th>answer_relevance</th>\n",
       "      <th>answer_satisfaction</th>\n",
       "      <th>answer_type_instructions</th>\n",
       "      <th>answer_type_procedure</th>\n",
       "      <th>answer_type_reason_explanation</th>\n",
       "      <th>answer_well_written</th>\n",
       "    </tr>\n",
       "  </thead>\n",
       "  <tbody>\n",
       "    <tr>\n",
       "      <td>0</td>\n",
       "      <td>0</td>\n",
       "      <td>What am I losing when using extension tubes in...</td>\n",
       "      <td>After playing around with macro photography on...</td>\n",
       "      <td>ysap</td>\n",
       "      <td>https://photo.stackexchange.com/users/1024</td>\n",
       "      <td>I just got extension tubes, so here's the skin...</td>\n",
       "      <td>rfusca</td>\n",
       "      <td>https://photo.stackexchange.com/users/1917</td>\n",
       "      <td>http://photo.stackexchange.com/questions/9169/...</td>\n",
       "      <td>LIFE_ARTS</td>\n",
       "      <td>...</td>\n",
       "      <td>1.000000</td>\n",
       "      <td>1.000000</td>\n",
       "      <td>0.666667</td>\n",
       "      <td>1.000000</td>\n",
       "      <td>1.000000</td>\n",
       "      <td>0.800000</td>\n",
       "      <td>1.000000</td>\n",
       "      <td>0.000000</td>\n",
       "      <td>0.000000</td>\n",
       "      <td>1.000000</td>\n",
       "    </tr>\n",
       "    <tr>\n",
       "      <td>1</td>\n",
       "      <td>1</td>\n",
       "      <td>What is the distinction between a city and a s...</td>\n",
       "      <td>I am trying to understand what kinds of places...</td>\n",
       "      <td>russellpierce</td>\n",
       "      <td>https://rpg.stackexchange.com/users/8774</td>\n",
       "      <td>It might be helpful to look into the definitio...</td>\n",
       "      <td>Erik Schmidt</td>\n",
       "      <td>https://rpg.stackexchange.com/users/1871</td>\n",
       "      <td>http://rpg.stackexchange.com/questions/47820/w...</td>\n",
       "      <td>CULTURE</td>\n",
       "      <td>...</td>\n",
       "      <td>0.888889</td>\n",
       "      <td>0.888889</td>\n",
       "      <td>0.555556</td>\n",
       "      <td>0.888889</td>\n",
       "      <td>0.888889</td>\n",
       "      <td>0.666667</td>\n",
       "      <td>0.000000</td>\n",
       "      <td>0.000000</td>\n",
       "      <td>0.666667</td>\n",
       "      <td>0.888889</td>\n",
       "    </tr>\n",
       "    <tr>\n",
       "      <td>2</td>\n",
       "      <td>2</td>\n",
       "      <td>Maximum protusion length for through-hole comp...</td>\n",
       "      <td>I'm working on a PCB that has through-hole com...</td>\n",
       "      <td>Joe Baker</td>\n",
       "      <td>https://electronics.stackexchange.com/users/10157</td>\n",
       "      <td>Do you even need grooves?  We make several pro...</td>\n",
       "      <td>Dwayne Reid</td>\n",
       "      <td>https://electronics.stackexchange.com/users/64754</td>\n",
       "      <td>http://electronics.stackexchange.com/questions...</td>\n",
       "      <td>SCIENCE</td>\n",
       "      <td>...</td>\n",
       "      <td>0.777778</td>\n",
       "      <td>0.777778</td>\n",
       "      <td>0.555556</td>\n",
       "      <td>1.000000</td>\n",
       "      <td>1.000000</td>\n",
       "      <td>0.666667</td>\n",
       "      <td>0.000000</td>\n",
       "      <td>0.333333</td>\n",
       "      <td>1.000000</td>\n",
       "      <td>0.888889</td>\n",
       "    </tr>\n",
       "    <tr>\n",
       "      <td>3</td>\n",
       "      <td>3</td>\n",
       "      <td>Can an affidavit be used in Beit Din?</td>\n",
       "      <td>An affidavit, from what i understand, is basic...</td>\n",
       "      <td>Scimonster</td>\n",
       "      <td>https://judaism.stackexchange.com/users/5151</td>\n",
       "      <td>Sending an \"affidavit\" it is a dispute between...</td>\n",
       "      <td>Y     e     z</td>\n",
       "      <td>https://judaism.stackexchange.com/users/4794</td>\n",
       "      <td>http://judaism.stackexchange.com/questions/551...</td>\n",
       "      <td>CULTURE</td>\n",
       "      <td>...</td>\n",
       "      <td>0.888889</td>\n",
       "      <td>0.833333</td>\n",
       "      <td>0.333333</td>\n",
       "      <td>0.833333</td>\n",
       "      <td>1.000000</td>\n",
       "      <td>0.800000</td>\n",
       "      <td>0.000000</td>\n",
       "      <td>0.000000</td>\n",
       "      <td>1.000000</td>\n",
       "      <td>1.000000</td>\n",
       "    </tr>\n",
       "    <tr>\n",
       "      <td>4</td>\n",
       "      <td>5</td>\n",
       "      <td>How do you make a binary image in Photoshop?</td>\n",
       "      <td>I am trying to make a binary image. I want mor...</td>\n",
       "      <td>leigero</td>\n",
       "      <td>https://graphicdesign.stackexchange.com/users/...</td>\n",
       "      <td>Check out Image Trace in Adobe Illustrator. \\n...</td>\n",
       "      <td>q2ra</td>\n",
       "      <td>https://graphicdesign.stackexchange.com/users/...</td>\n",
       "      <td>http://graphicdesign.stackexchange.com/questio...</td>\n",
       "      <td>LIFE_ARTS</td>\n",
       "      <td>...</td>\n",
       "      <td>1.000000</td>\n",
       "      <td>1.000000</td>\n",
       "      <td>0.666667</td>\n",
       "      <td>1.000000</td>\n",
       "      <td>1.000000</td>\n",
       "      <td>0.800000</td>\n",
       "      <td>1.000000</td>\n",
       "      <td>0.000000</td>\n",
       "      <td>1.000000</td>\n",
       "      <td>1.000000</td>\n",
       "    </tr>\n",
       "    <tr>\n",
       "      <td>...</td>\n",
       "      <td>...</td>\n",
       "      <td>...</td>\n",
       "      <td>...</td>\n",
       "      <td>...</td>\n",
       "      <td>...</td>\n",
       "      <td>...</td>\n",
       "      <td>...</td>\n",
       "      <td>...</td>\n",
       "      <td>...</td>\n",
       "      <td>...</td>\n",
       "      <td>...</td>\n",
       "      <td>...</td>\n",
       "      <td>...</td>\n",
       "      <td>...</td>\n",
       "      <td>...</td>\n",
       "      <td>...</td>\n",
       "      <td>...</td>\n",
       "      <td>...</td>\n",
       "      <td>...</td>\n",
       "      <td>...</td>\n",
       "      <td>...</td>\n",
       "    </tr>\n",
       "    <tr>\n",
       "      <td>6074</td>\n",
       "      <td>9642</td>\n",
       "      <td>Using a ski helmet for winter biking</td>\n",
       "      <td>I am curious if anyone uses a skiing helmet fo...</td>\n",
       "      <td>sixtyfootersdude</td>\n",
       "      <td>https://bicycles.stackexchange.com/users/134</td>\n",
       "      <td>If you're thinking about wearing a ski helmet ...</td>\n",
       "      <td>Matt Leo</td>\n",
       "      <td>https://bicycles.stackexchange.com/users/3340</td>\n",
       "      <td>http://bicycles.stackexchange.com/questions/99...</td>\n",
       "      <td>CULTURE</td>\n",
       "      <td>...</td>\n",
       "      <td>0.777778</td>\n",
       "      <td>1.000000</td>\n",
       "      <td>0.555556</td>\n",
       "      <td>1.000000</td>\n",
       "      <td>1.000000</td>\n",
       "      <td>0.866667</td>\n",
       "      <td>0.000000</td>\n",
       "      <td>0.000000</td>\n",
       "      <td>0.000000</td>\n",
       "      <td>0.888889</td>\n",
       "    </tr>\n",
       "    <tr>\n",
       "      <td>6075</td>\n",
       "      <td>9643</td>\n",
       "      <td>Adjustment to road bike brakes for high grade ...</td>\n",
       "      <td>I have a road bike with a front brake that wea...</td>\n",
       "      <td>ash</td>\n",
       "      <td>https://bicycles.stackexchange.com/users/14519</td>\n",
       "      <td>\\nYou can replace the pads (as stated elsewher...</td>\n",
       "      <td>Daniel R Hicks</td>\n",
       "      <td>https://bicycles.stackexchange.com/users/1584</td>\n",
       "      <td>http://bicycles.stackexchange.com/questions/25...</td>\n",
       "      <td>CULTURE</td>\n",
       "      <td>...</td>\n",
       "      <td>0.777778</td>\n",
       "      <td>0.888889</td>\n",
       "      <td>0.555556</td>\n",
       "      <td>1.000000</td>\n",
       "      <td>1.000000</td>\n",
       "      <td>0.733333</td>\n",
       "      <td>0.666667</td>\n",
       "      <td>0.333333</td>\n",
       "      <td>0.000000</td>\n",
       "      <td>0.888889</td>\n",
       "    </tr>\n",
       "    <tr>\n",
       "      <td>6076</td>\n",
       "      <td>9645</td>\n",
       "      <td>Suppress 'file truncated' messages when using ...</td>\n",
       "      <td>I'm tailing a log file using tail -f messages....</td>\n",
       "      <td>Maneating Koala</td>\n",
       "      <td>https://unix.stackexchange.com/users/60445</td>\n",
       "      <td>Maybe help if can be fixes origin of this erro...</td>\n",
       "      <td>BG Bruno</td>\n",
       "      <td>https://unix.stackexchange.com/users/68208</td>\n",
       "      <td>http://unix.stackexchange.com/questions/169054...</td>\n",
       "      <td>TECHNOLOGY</td>\n",
       "      <td>...</td>\n",
       "      <td>0.444444</td>\n",
       "      <td>0.888889</td>\n",
       "      <td>0.555556</td>\n",
       "      <td>0.888889</td>\n",
       "      <td>0.888889</td>\n",
       "      <td>0.800000</td>\n",
       "      <td>1.000000</td>\n",
       "      <td>0.000000</td>\n",
       "      <td>0.333333</td>\n",
       "      <td>0.555556</td>\n",
       "    </tr>\n",
       "    <tr>\n",
       "      <td>6077</td>\n",
       "      <td>9646</td>\n",
       "      <td>When should a supervisor be a co-author?</td>\n",
       "      <td>What are people's views on this?  To be specif...</td>\n",
       "      <td>MrB</td>\n",
       "      <td>https://mathoverflow.net/users/2189</td>\n",
       "      <td>As a non-mathematician, I am somewhat mystifie...</td>\n",
       "      <td>angela</td>\n",
       "      <td>https://mathoverflow.net/users/4267</td>\n",
       "      <td>http://mathoverflow.net/questions/57337</td>\n",
       "      <td>SCIENCE</td>\n",
       "      <td>...</td>\n",
       "      <td>1.000000</td>\n",
       "      <td>0.888889</td>\n",
       "      <td>0.555556</td>\n",
       "      <td>1.000000</td>\n",
       "      <td>1.000000</td>\n",
       "      <td>0.533333</td>\n",
       "      <td>0.000000</td>\n",
       "      <td>0.333333</td>\n",
       "      <td>0.666667</td>\n",
       "      <td>1.000000</td>\n",
       "    </tr>\n",
       "    <tr>\n",
       "      <td>6078</td>\n",
       "      <td>9647</td>\n",
       "      <td>Why are there so many different types of screw...</td>\n",
       "      <td>Newbie question.\\n\\nWhy is it that there's a b...</td>\n",
       "      <td>Doug T.</td>\n",
       "      <td>https://diy.stackexchange.com/users/321</td>\n",
       "      <td>First, I really like Eric's answer for practic...</td>\n",
       "      <td>Scivitri</td>\n",
       "      <td>https://diy.stackexchange.com/users/113</td>\n",
       "      <td>http://diy.stackexchange.com/questions/2701/wh...</td>\n",
       "      <td>LIFE_ARTS</td>\n",
       "      <td>...</td>\n",
       "      <td>1.000000</td>\n",
       "      <td>0.888889</td>\n",
       "      <td>0.555556</td>\n",
       "      <td>1.000000</td>\n",
       "      <td>0.888889</td>\n",
       "      <td>0.733333</td>\n",
       "      <td>0.000000</td>\n",
       "      <td>0.000000</td>\n",
       "      <td>1.000000</td>\n",
       "      <td>1.000000</td>\n",
       "    </tr>\n",
       "  </tbody>\n",
       "</table>\n",
       "<p>6079 rows × 41 columns</p>\n",
       "</div>"
      ],
      "text/plain": [
       "      qa_id                                     question_title  \\\n",
       "0         0  What am I losing when using extension tubes in...   \n",
       "1         1  What is the distinction between a city and a s...   \n",
       "2         2  Maximum protusion length for through-hole comp...   \n",
       "3         3              Can an affidavit be used in Beit Din?   \n",
       "4         5       How do you make a binary image in Photoshop?   \n",
       "...     ...                                                ...   \n",
       "6074   9642               Using a ski helmet for winter biking   \n",
       "6075   9643  Adjustment to road bike brakes for high grade ...   \n",
       "6076   9645  Suppress 'file truncated' messages when using ...   \n",
       "6077   9646           When should a supervisor be a co-author?   \n",
       "6078   9647  Why are there so many different types of screw...   \n",
       "\n",
       "                                          question_body question_user_name  \\\n",
       "0     After playing around with macro photography on...               ysap   \n",
       "1     I am trying to understand what kinds of places...      russellpierce   \n",
       "2     I'm working on a PCB that has through-hole com...          Joe Baker   \n",
       "3     An affidavit, from what i understand, is basic...         Scimonster   \n",
       "4     I am trying to make a binary image. I want mor...            leigero   \n",
       "...                                                 ...                ...   \n",
       "6074  I am curious if anyone uses a skiing helmet fo...   sixtyfootersdude   \n",
       "6075  I have a road bike with a front brake that wea...                ash   \n",
       "6076  I'm tailing a log file using tail -f messages....    Maneating Koala   \n",
       "6077  What are people's views on this?  To be specif...                MrB   \n",
       "6078  Newbie question.\\n\\nWhy is it that there's a b...            Doug T.   \n",
       "\n",
       "                                     question_user_page  \\\n",
       "0            https://photo.stackexchange.com/users/1024   \n",
       "1              https://rpg.stackexchange.com/users/8774   \n",
       "2     https://electronics.stackexchange.com/users/10157   \n",
       "3          https://judaism.stackexchange.com/users/5151   \n",
       "4     https://graphicdesign.stackexchange.com/users/...   \n",
       "...                                                 ...   \n",
       "6074       https://bicycles.stackexchange.com/users/134   \n",
       "6075     https://bicycles.stackexchange.com/users/14519   \n",
       "6076         https://unix.stackexchange.com/users/60445   \n",
       "6077                https://mathoverflow.net/users/2189   \n",
       "6078            https://diy.stackexchange.com/users/321   \n",
       "\n",
       "                                                 answer answer_user_name  \\\n",
       "0     I just got extension tubes, so here's the skin...           rfusca   \n",
       "1     It might be helpful to look into the definitio...     Erik Schmidt   \n",
       "2     Do you even need grooves?  We make several pro...      Dwayne Reid   \n",
       "3     Sending an \"affidavit\" it is a dispute between...    Y     e     z   \n",
       "4     Check out Image Trace in Adobe Illustrator. \\n...             q2ra   \n",
       "...                                                 ...              ...   \n",
       "6074  If you're thinking about wearing a ski helmet ...         Matt Leo   \n",
       "6075  \\nYou can replace the pads (as stated elsewher...   Daniel R Hicks   \n",
       "6076  Maybe help if can be fixes origin of this erro...         BG Bruno   \n",
       "6077  As a non-mathematician, I am somewhat mystifie...           angela   \n",
       "6078  First, I really like Eric's answer for practic...         Scivitri   \n",
       "\n",
       "                                       answer_user_page  \\\n",
       "0            https://photo.stackexchange.com/users/1917   \n",
       "1              https://rpg.stackexchange.com/users/1871   \n",
       "2     https://electronics.stackexchange.com/users/64754   \n",
       "3          https://judaism.stackexchange.com/users/4794   \n",
       "4     https://graphicdesign.stackexchange.com/users/...   \n",
       "...                                                 ...   \n",
       "6074      https://bicycles.stackexchange.com/users/3340   \n",
       "6075      https://bicycles.stackexchange.com/users/1584   \n",
       "6076         https://unix.stackexchange.com/users/68208   \n",
       "6077                https://mathoverflow.net/users/4267   \n",
       "6078            https://diy.stackexchange.com/users/113   \n",
       "\n",
       "                                                    url    category  ...  \\\n",
       "0     http://photo.stackexchange.com/questions/9169/...   LIFE_ARTS  ...   \n",
       "1     http://rpg.stackexchange.com/questions/47820/w...     CULTURE  ...   \n",
       "2     http://electronics.stackexchange.com/questions...     SCIENCE  ...   \n",
       "3     http://judaism.stackexchange.com/questions/551...     CULTURE  ...   \n",
       "4     http://graphicdesign.stackexchange.com/questio...   LIFE_ARTS  ...   \n",
       "...                                                 ...         ...  ...   \n",
       "6074  http://bicycles.stackexchange.com/questions/99...     CULTURE  ...   \n",
       "6075  http://bicycles.stackexchange.com/questions/25...     CULTURE  ...   \n",
       "6076  http://unix.stackexchange.com/questions/169054...  TECHNOLOGY  ...   \n",
       "6077            http://mathoverflow.net/questions/57337     SCIENCE  ...   \n",
       "6078  http://diy.stackexchange.com/questions/2701/wh...   LIFE_ARTS  ...   \n",
       "\n",
       "     question_well_written  answer_helpful  answer_level_of_information  \\\n",
       "0                 1.000000        1.000000                     0.666667   \n",
       "1                 0.888889        0.888889                     0.555556   \n",
       "2                 0.777778        0.777778                     0.555556   \n",
       "3                 0.888889        0.833333                     0.333333   \n",
       "4                 1.000000        1.000000                     0.666667   \n",
       "...                    ...             ...                          ...   \n",
       "6074              0.777778        1.000000                     0.555556   \n",
       "6075              0.777778        0.888889                     0.555556   \n",
       "6076              0.444444        0.888889                     0.555556   \n",
       "6077              1.000000        0.888889                     0.555556   \n",
       "6078              1.000000        0.888889                     0.555556   \n",
       "\n",
       "      answer_plausible  answer_relevance  answer_satisfaction  \\\n",
       "0             1.000000          1.000000             0.800000   \n",
       "1             0.888889          0.888889             0.666667   \n",
       "2             1.000000          1.000000             0.666667   \n",
       "3             0.833333          1.000000             0.800000   \n",
       "4             1.000000          1.000000             0.800000   \n",
       "...                ...               ...                  ...   \n",
       "6074          1.000000          1.000000             0.866667   \n",
       "6075          1.000000          1.000000             0.733333   \n",
       "6076          0.888889          0.888889             0.800000   \n",
       "6077          1.000000          1.000000             0.533333   \n",
       "6078          1.000000          0.888889             0.733333   \n",
       "\n",
       "      answer_type_instructions  answer_type_procedure  \\\n",
       "0                     1.000000               0.000000   \n",
       "1                     0.000000               0.000000   \n",
       "2                     0.000000               0.333333   \n",
       "3                     0.000000               0.000000   \n",
       "4                     1.000000               0.000000   \n",
       "...                        ...                    ...   \n",
       "6074                  0.000000               0.000000   \n",
       "6075                  0.666667               0.333333   \n",
       "6076                  1.000000               0.000000   \n",
       "6077                  0.000000               0.333333   \n",
       "6078                  0.000000               0.000000   \n",
       "\n",
       "      answer_type_reason_explanation  answer_well_written  \n",
       "0                           0.000000             1.000000  \n",
       "1                           0.666667             0.888889  \n",
       "2                           1.000000             0.888889  \n",
       "3                           1.000000             1.000000  \n",
       "4                           1.000000             1.000000  \n",
       "...                              ...                  ...  \n",
       "6074                        0.000000             0.888889  \n",
       "6075                        0.000000             0.888889  \n",
       "6076                        0.333333             0.555556  \n",
       "6077                        0.666667             1.000000  \n",
       "6078                        1.000000             1.000000  \n",
       "\n",
       "[6079 rows x 41 columns]"
      ]
     },
     "execution_count": 46,
     "metadata": {},
     "output_type": "execute_result"
    }
   ],
   "source": [
    "train.drop_duplicates() # no duplicates present"
   ]
  },
  {
   "cell_type": "code",
   "execution_count": 50,
   "metadata": {},
   "outputs": [
    {
     "data": {
      "text/plain": [
       "qa_id                                    0\n",
       "question_title                           0\n",
       "question_body                            0\n",
       "question_user_name                       0\n",
       "question_user_page                       0\n",
       "answer                                   0\n",
       "answer_user_name                         0\n",
       "answer_user_page                         0\n",
       "url                                      0\n",
       "category                                 0\n",
       "host                                     0\n",
       "question_asker_intent_understanding      0\n",
       "question_body_critical                   0\n",
       "question_conversational                  0\n",
       "question_expect_short_answer             0\n",
       "question_fact_seeking                    0\n",
       "question_has_commonly_accepted_answer    0\n",
       "question_interestingness_others          0\n",
       "question_interestingness_self            0\n",
       "question_multi_intent                    0\n",
       "question_not_really_a_question           0\n",
       "question_opinion_seeking                 0\n",
       "question_type_choice                     0\n",
       "question_type_compare                    0\n",
       "question_type_consequence                0\n",
       "question_type_definition                 0\n",
       "question_type_entity                     0\n",
       "question_type_instructions               0\n",
       "question_type_procedure                  0\n",
       "question_type_reason_explanation         0\n",
       "question_type_spelling                   0\n",
       "question_well_written                    0\n",
       "answer_helpful                           0\n",
       "answer_level_of_information              0\n",
       "answer_plausible                         0\n",
       "answer_relevance                         0\n",
       "answer_satisfaction                      0\n",
       "answer_type_instructions                 0\n",
       "answer_type_procedure                    0\n",
       "answer_type_reason_explanation           0\n",
       "answer_well_written                      0\n",
       "dtype: int64"
      ]
     },
     "execution_count": 50,
     "metadata": {},
     "output_type": "execute_result"
    }
   ],
   "source": [
    "train.isnull().sum() # no missing values"
   ]
  },
  {
   "cell_type": "markdown",
   "metadata": {},
   "source": [
    "#### Exploring categories and hosts"
   ]
  },
  {
   "cell_type": "code",
   "execution_count": 134,
   "metadata": {},
   "outputs": [
    {
     "data": {
      "application/vnd.plotly.v1+json": {
       "config": {
        "linkText": "Export to plot.ly",
        "plotlyServerURL": "https://plot.ly",
        "showLink": true
       },
       "data": [
        {
         "labels": [
          "TECHNOLOGY",
          "STACKOVERFLOW",
          "CULTURE",
          "SCIENCE",
          "LIFE_ARTS"
         ],
         "marker": {
          "colors": [
           "rgba(255, 153, 51, 1.0)",
           "rgba(55, 128, 191, 1.0)",
           "rgba(50, 171, 96, 1.0)",
           "rgba(128, 0, 128, 1.0)",
           "rgba(219, 64, 82, 1.0)"
          ]
         },
         "name": "",
         "type": "pie",
         "values": [
          2441,
          1253,
          963,
          713,
          709
         ]
        }
       ],
       "layout": {
        "legend": {
         "bgcolor": "#F5F6F9",
         "font": {
          "color": "#4D5663"
         }
        },
        "paper_bgcolor": "#F5F6F9",
        "plot_bgcolor": "#F5F6F9",
        "title": "Distribution of train Q&A pairs by category",
        "titlefont": {
         "color": "#4D5663"
        }
       }
      },
      "text/html": [
       "<div>\n",
       "        \n",
       "        \n",
       "            <div id=\"24454b8f-4319-4c88-93ea-2ebbd9865241\" class=\"plotly-graph-div\" style=\"height:525px; width:100%;\"></div>\n",
       "            <script type=\"text/javascript\">\n",
       "                require([\"plotly\"], function(Plotly) {\n",
       "                    window.PLOTLYENV=window.PLOTLYENV || {};\n",
       "                    window.PLOTLYENV.BASE_URL='https://plot.ly';\n",
       "                    \n",
       "                if (document.getElementById(\"24454b8f-4319-4c88-93ea-2ebbd9865241\")) {\n",
       "                    Plotly.newPlot(\n",
       "                        '24454b8f-4319-4c88-93ea-2ebbd9865241',\n",
       "                        [{\"labels\": [\"TECHNOLOGY\", \"STACKOVERFLOW\", \"CULTURE\", \"SCIENCE\", \"LIFE_ARTS\"], \"marker\": {\"colors\": [\"rgba(255, 153, 51, 1.0)\", \"rgba(55, 128, 191, 1.0)\", \"rgba(50, 171, 96, 1.0)\", \"rgba(128, 0, 128, 1.0)\", \"rgba(219, 64, 82, 1.0)\"]}, \"name\": \"\", \"type\": \"pie\", \"values\": [2441, 1253, 963, 713, 709]}],\n",
       "                        {\"legend\": {\"bgcolor\": \"#F5F6F9\", \"font\": {\"color\": \"#4D5663\"}}, \"paper_bgcolor\": \"#F5F6F9\", \"plot_bgcolor\": \"#F5F6F9\", \"title\": \"Distribution of train Q&A pairs by category\", \"titlefont\": {\"color\": \"#4D5663\"}},\n",
       "                        {\"showLink\": true, \"linkText\": \"Export to plot.ly\", \"plotlyServerURL\": \"https://plot.ly\", \"responsive\": true}\n",
       "                    ).then(function(){\n",
       "                            \n",
       "var gd = document.getElementById('24454b8f-4319-4c88-93ea-2ebbd9865241');\n",
       "var x = new MutationObserver(function (mutations, observer) {{\n",
       "        var display = window.getComputedStyle(gd).display;\n",
       "        if (!display || display === 'none') {{\n",
       "            console.log([gd, 'removed!']);\n",
       "            Plotly.purge(gd);\n",
       "            observer.disconnect();\n",
       "        }}\n",
       "}});\n",
       "\n",
       "// Listen for the removal of the full notebook cells\n",
       "var notebookContainer = gd.closest('#notebook-container');\n",
       "if (notebookContainer) {{\n",
       "    x.observe(notebookContainer, {childList: true});\n",
       "}}\n",
       "\n",
       "// Listen for the clearing of the current output cell\n",
       "var outputEl = gd.closest('.output');\n",
       "if (outputEl) {{\n",
       "    x.observe(outputEl, {childList: true});\n",
       "}}\n",
       "\n",
       "                        })\n",
       "                };\n",
       "                });\n",
       "            </script>\n",
       "        </div>"
      ]
     },
     "metadata": {},
     "output_type": "display_data"
    }
   ],
   "source": [
    "# distribution of train Q&A pairs by category\n",
    "temp = train[\"category\"].value_counts()\n",
    "df = pd.DataFrame({'labels': temp.index,\n",
    "                   'values': temp.values\n",
    "                  })\n",
    "df.iplot(kind='pie',labels='labels',values='values', title='Distribution of train Q&A pairs by category')\n",
    "# Over 40% of the Q&A pairs are in Tech category"
   ]
  },
  {
   "cell_type": "code",
   "execution_count": 54,
   "metadata": {},
   "outputs": [
    {
     "data": {
      "application/vnd.plotly.v1+json": {
       "config": {
        "linkText": "Export to plot.ly",
        "plotlyServerURL": "https://plot.ly",
        "showLink": true
       },
       "data": [
        {
         "marker": {
          "color": "rgba(255, 153, 51, 0.6)",
          "line": {
           "color": "rgba(255, 153, 51, 1.0)",
           "width": 1
          }
         },
         "name": "host",
         "orientation": "v",
         "text": "",
         "type": "bar",
         "x": [
          "stackoverflow.com",
          "english.stackexchange.com",
          "superuser.com",
          "electronics.stackexchange.com",
          "serverfault.com",
          "math.stackexchange.com",
          "physics.stackexchange.com",
          "tex.stackexchange.com",
          "askubuntu.com",
          "programmers.stackexchange.com"
         ],
         "y": [
          1253,
          229,
          227,
          221,
          213,
          187,
          164,
          140,
          126,
          125
         ]
        }
       ],
       "layout": {
        "legend": {
         "bgcolor": "#F5F6F9",
         "font": {
          "color": "#4D5663"
         }
        },
        "paper_bgcolor": "#F5F6F9",
        "plot_bgcolor": "#F5F6F9",
        "template": {
         "data": {
          "bar": [
           {
            "error_x": {
             "color": "#2a3f5f"
            },
            "error_y": {
             "color": "#2a3f5f"
            },
            "marker": {
             "line": {
              "color": "#E5ECF6",
              "width": 0.5
             }
            },
            "type": "bar"
           }
          ],
          "barpolar": [
           {
            "marker": {
             "line": {
              "color": "#E5ECF6",
              "width": 0.5
             }
            },
            "type": "barpolar"
           }
          ],
          "carpet": [
           {
            "aaxis": {
             "endlinecolor": "#2a3f5f",
             "gridcolor": "white",
             "linecolor": "white",
             "minorgridcolor": "white",
             "startlinecolor": "#2a3f5f"
            },
            "baxis": {
             "endlinecolor": "#2a3f5f",
             "gridcolor": "white",
             "linecolor": "white",
             "minorgridcolor": "white",
             "startlinecolor": "#2a3f5f"
            },
            "type": "carpet"
           }
          ],
          "choropleth": [
           {
            "colorbar": {
             "outlinewidth": 0,
             "ticks": ""
            },
            "type": "choropleth"
           }
          ],
          "contour": [
           {
            "colorbar": {
             "outlinewidth": 0,
             "ticks": ""
            },
            "colorscale": [
             [
              0,
              "#0d0887"
             ],
             [
              0.1111111111111111,
              "#46039f"
             ],
             [
              0.2222222222222222,
              "#7201a8"
             ],
             [
              0.3333333333333333,
              "#9c179e"
             ],
             [
              0.4444444444444444,
              "#bd3786"
             ],
             [
              0.5555555555555556,
              "#d8576b"
             ],
             [
              0.6666666666666666,
              "#ed7953"
             ],
             [
              0.7777777777777778,
              "#fb9f3a"
             ],
             [
              0.8888888888888888,
              "#fdca26"
             ],
             [
              1,
              "#f0f921"
             ]
            ],
            "type": "contour"
           }
          ],
          "contourcarpet": [
           {
            "colorbar": {
             "outlinewidth": 0,
             "ticks": ""
            },
            "type": "contourcarpet"
           }
          ],
          "heatmap": [
           {
            "colorbar": {
             "outlinewidth": 0,
             "ticks": ""
            },
            "colorscale": [
             [
              0,
              "#0d0887"
             ],
             [
              0.1111111111111111,
              "#46039f"
             ],
             [
              0.2222222222222222,
              "#7201a8"
             ],
             [
              0.3333333333333333,
              "#9c179e"
             ],
             [
              0.4444444444444444,
              "#bd3786"
             ],
             [
              0.5555555555555556,
              "#d8576b"
             ],
             [
              0.6666666666666666,
              "#ed7953"
             ],
             [
              0.7777777777777778,
              "#fb9f3a"
             ],
             [
              0.8888888888888888,
              "#fdca26"
             ],
             [
              1,
              "#f0f921"
             ]
            ],
            "type": "heatmap"
           }
          ],
          "heatmapgl": [
           {
            "colorbar": {
             "outlinewidth": 0,
             "ticks": ""
            },
            "colorscale": [
             [
              0,
              "#0d0887"
             ],
             [
              0.1111111111111111,
              "#46039f"
             ],
             [
              0.2222222222222222,
              "#7201a8"
             ],
             [
              0.3333333333333333,
              "#9c179e"
             ],
             [
              0.4444444444444444,
              "#bd3786"
             ],
             [
              0.5555555555555556,
              "#d8576b"
             ],
             [
              0.6666666666666666,
              "#ed7953"
             ],
             [
              0.7777777777777778,
              "#fb9f3a"
             ],
             [
              0.8888888888888888,
              "#fdca26"
             ],
             [
              1,
              "#f0f921"
             ]
            ],
            "type": "heatmapgl"
           }
          ],
          "histogram": [
           {
            "marker": {
             "colorbar": {
              "outlinewidth": 0,
              "ticks": ""
             }
            },
            "type": "histogram"
           }
          ],
          "histogram2d": [
           {
            "colorbar": {
             "outlinewidth": 0,
             "ticks": ""
            },
            "colorscale": [
             [
              0,
              "#0d0887"
             ],
             [
              0.1111111111111111,
              "#46039f"
             ],
             [
              0.2222222222222222,
              "#7201a8"
             ],
             [
              0.3333333333333333,
              "#9c179e"
             ],
             [
              0.4444444444444444,
              "#bd3786"
             ],
             [
              0.5555555555555556,
              "#d8576b"
             ],
             [
              0.6666666666666666,
              "#ed7953"
             ],
             [
              0.7777777777777778,
              "#fb9f3a"
             ],
             [
              0.8888888888888888,
              "#fdca26"
             ],
             [
              1,
              "#f0f921"
             ]
            ],
            "type": "histogram2d"
           }
          ],
          "histogram2dcontour": [
           {
            "colorbar": {
             "outlinewidth": 0,
             "ticks": ""
            },
            "colorscale": [
             [
              0,
              "#0d0887"
             ],
             [
              0.1111111111111111,
              "#46039f"
             ],
             [
              0.2222222222222222,
              "#7201a8"
             ],
             [
              0.3333333333333333,
              "#9c179e"
             ],
             [
              0.4444444444444444,
              "#bd3786"
             ],
             [
              0.5555555555555556,
              "#d8576b"
             ],
             [
              0.6666666666666666,
              "#ed7953"
             ],
             [
              0.7777777777777778,
              "#fb9f3a"
             ],
             [
              0.8888888888888888,
              "#fdca26"
             ],
             [
              1,
              "#f0f921"
             ]
            ],
            "type": "histogram2dcontour"
           }
          ],
          "mesh3d": [
           {
            "colorbar": {
             "outlinewidth": 0,
             "ticks": ""
            },
            "type": "mesh3d"
           }
          ],
          "parcoords": [
           {
            "line": {
             "colorbar": {
              "outlinewidth": 0,
              "ticks": ""
             }
            },
            "type": "parcoords"
           }
          ],
          "pie": [
           {
            "automargin": true,
            "type": "pie"
           }
          ],
          "scatter": [
           {
            "marker": {
             "colorbar": {
              "outlinewidth": 0,
              "ticks": ""
             }
            },
            "type": "scatter"
           }
          ],
          "scatter3d": [
           {
            "line": {
             "colorbar": {
              "outlinewidth": 0,
              "ticks": ""
             }
            },
            "marker": {
             "colorbar": {
              "outlinewidth": 0,
              "ticks": ""
             }
            },
            "type": "scatter3d"
           }
          ],
          "scattercarpet": [
           {
            "marker": {
             "colorbar": {
              "outlinewidth": 0,
              "ticks": ""
             }
            },
            "type": "scattercarpet"
           }
          ],
          "scattergeo": [
           {
            "marker": {
             "colorbar": {
              "outlinewidth": 0,
              "ticks": ""
             }
            },
            "type": "scattergeo"
           }
          ],
          "scattergl": [
           {
            "marker": {
             "colorbar": {
              "outlinewidth": 0,
              "ticks": ""
             }
            },
            "type": "scattergl"
           }
          ],
          "scattermapbox": [
           {
            "marker": {
             "colorbar": {
              "outlinewidth": 0,
              "ticks": ""
             }
            },
            "type": "scattermapbox"
           }
          ],
          "scatterpolar": [
           {
            "marker": {
             "colorbar": {
              "outlinewidth": 0,
              "ticks": ""
             }
            },
            "type": "scatterpolar"
           }
          ],
          "scatterpolargl": [
           {
            "marker": {
             "colorbar": {
              "outlinewidth": 0,
              "ticks": ""
             }
            },
            "type": "scatterpolargl"
           }
          ],
          "scatterternary": [
           {
            "marker": {
             "colorbar": {
              "outlinewidth": 0,
              "ticks": ""
             }
            },
            "type": "scatterternary"
           }
          ],
          "surface": [
           {
            "colorbar": {
             "outlinewidth": 0,
             "ticks": ""
            },
            "colorscale": [
             [
              0,
              "#0d0887"
             ],
             [
              0.1111111111111111,
              "#46039f"
             ],
             [
              0.2222222222222222,
              "#7201a8"
             ],
             [
              0.3333333333333333,
              "#9c179e"
             ],
             [
              0.4444444444444444,
              "#bd3786"
             ],
             [
              0.5555555555555556,
              "#d8576b"
             ],
             [
              0.6666666666666666,
              "#ed7953"
             ],
             [
              0.7777777777777778,
              "#fb9f3a"
             ],
             [
              0.8888888888888888,
              "#fdca26"
             ],
             [
              1,
              "#f0f921"
             ]
            ],
            "type": "surface"
           }
          ],
          "table": [
           {
            "cells": {
             "fill": {
              "color": "#EBF0F8"
             },
             "line": {
              "color": "white"
             }
            },
            "header": {
             "fill": {
              "color": "#C8D4E3"
             },
             "line": {
              "color": "white"
             }
            },
            "type": "table"
           }
          ]
         },
         "layout": {
          "annotationdefaults": {
           "arrowcolor": "#2a3f5f",
           "arrowhead": 0,
           "arrowwidth": 1
          },
          "coloraxis": {
           "colorbar": {
            "outlinewidth": 0,
            "ticks": ""
           }
          },
          "colorscale": {
           "diverging": [
            [
             0,
             "#8e0152"
            ],
            [
             0.1,
             "#c51b7d"
            ],
            [
             0.2,
             "#de77ae"
            ],
            [
             0.3,
             "#f1b6da"
            ],
            [
             0.4,
             "#fde0ef"
            ],
            [
             0.5,
             "#f7f7f7"
            ],
            [
             0.6,
             "#e6f5d0"
            ],
            [
             0.7,
             "#b8e186"
            ],
            [
             0.8,
             "#7fbc41"
            ],
            [
             0.9,
             "#4d9221"
            ],
            [
             1,
             "#276419"
            ]
           ],
           "sequential": [
            [
             0,
             "#0d0887"
            ],
            [
             0.1111111111111111,
             "#46039f"
            ],
            [
             0.2222222222222222,
             "#7201a8"
            ],
            [
             0.3333333333333333,
             "#9c179e"
            ],
            [
             0.4444444444444444,
             "#bd3786"
            ],
            [
             0.5555555555555556,
             "#d8576b"
            ],
            [
             0.6666666666666666,
             "#ed7953"
            ],
            [
             0.7777777777777778,
             "#fb9f3a"
            ],
            [
             0.8888888888888888,
             "#fdca26"
            ],
            [
             1,
             "#f0f921"
            ]
           ],
           "sequentialminus": [
            [
             0,
             "#0d0887"
            ],
            [
             0.1111111111111111,
             "#46039f"
            ],
            [
             0.2222222222222222,
             "#7201a8"
            ],
            [
             0.3333333333333333,
             "#9c179e"
            ],
            [
             0.4444444444444444,
             "#bd3786"
            ],
            [
             0.5555555555555556,
             "#d8576b"
            ],
            [
             0.6666666666666666,
             "#ed7953"
            ],
            [
             0.7777777777777778,
             "#fb9f3a"
            ],
            [
             0.8888888888888888,
             "#fdca26"
            ],
            [
             1,
             "#f0f921"
            ]
           ]
          },
          "colorway": [
           "#636efa",
           "#EF553B",
           "#00cc96",
           "#ab63fa",
           "#FFA15A",
           "#19d3f3",
           "#FF6692",
           "#B6E880",
           "#FF97FF",
           "#FECB52"
          ],
          "font": {
           "color": "#2a3f5f"
          },
          "geo": {
           "bgcolor": "white",
           "lakecolor": "white",
           "landcolor": "#E5ECF6",
           "showlakes": true,
           "showland": true,
           "subunitcolor": "white"
          },
          "hoverlabel": {
           "align": "left"
          },
          "hovermode": "closest",
          "mapbox": {
           "style": "light"
          },
          "paper_bgcolor": "white",
          "plot_bgcolor": "#E5ECF6",
          "polar": {
           "angularaxis": {
            "gridcolor": "white",
            "linecolor": "white",
            "ticks": ""
           },
           "bgcolor": "#E5ECF6",
           "radialaxis": {
            "gridcolor": "white",
            "linecolor": "white",
            "ticks": ""
           }
          },
          "scene": {
           "xaxis": {
            "backgroundcolor": "#E5ECF6",
            "gridcolor": "white",
            "gridwidth": 2,
            "linecolor": "white",
            "showbackground": true,
            "ticks": "",
            "zerolinecolor": "white"
           },
           "yaxis": {
            "backgroundcolor": "#E5ECF6",
            "gridcolor": "white",
            "gridwidth": 2,
            "linecolor": "white",
            "showbackground": true,
            "ticks": "",
            "zerolinecolor": "white"
           },
           "zaxis": {
            "backgroundcolor": "#E5ECF6",
            "gridcolor": "white",
            "gridwidth": 2,
            "linecolor": "white",
            "showbackground": true,
            "ticks": "",
            "zerolinecolor": "white"
           }
          },
          "shapedefaults": {
           "line": {
            "color": "#2a3f5f"
           }
          },
          "ternary": {
           "aaxis": {
            "gridcolor": "white",
            "linecolor": "white",
            "ticks": ""
           },
           "baxis": {
            "gridcolor": "white",
            "linecolor": "white",
            "ticks": ""
           },
           "bgcolor": "#E5ECF6",
           "caxis": {
            "gridcolor": "white",
            "linecolor": "white",
            "ticks": ""
           }
          },
          "title": {
           "x": 0.05
          },
          "xaxis": {
           "automargin": true,
           "gridcolor": "white",
           "linecolor": "white",
           "ticks": "",
           "title": {
            "standoff": 15
           },
           "zerolinecolor": "white",
           "zerolinewidth": 2
          },
          "yaxis": {
           "automargin": true,
           "gridcolor": "white",
           "linecolor": "white",
           "ticks": "",
           "title": {
            "standoff": 15
           },
           "zerolinecolor": "white",
           "zerolinewidth": 2
          }
         }
        },
        "title": {
         "font": {
          "color": "#4D5663"
         },
         "text": "Distribution of train Q&A pairs by host"
        },
        "xaxis": {
         "gridcolor": "#E1E5ED",
         "showgrid": true,
         "tickfont": {
          "color": "#4D5663"
         },
         "title": {
          "font": {
           "color": "#4D5663"
          },
          "text": ""
         },
         "zerolinecolor": "#E1E5ED"
        },
        "yaxis": {
         "gridcolor": "#E1E5ED",
         "showgrid": true,
         "tickfont": {
          "color": "#4D5663"
         },
         "title": {
          "font": {
           "color": "#4D5663"
          },
          "text": ""
         },
         "zerolinecolor": "#E1E5ED"
        }
       }
      },
      "text/html": [
       "<div>\n",
       "        \n",
       "        \n",
       "            <div id=\"9cc5542f-bfe1-409f-bdfc-e4c16e7a15e2\" class=\"plotly-graph-div\" style=\"height:525px; width:100%;\"></div>\n",
       "            <script type=\"text/javascript\">\n",
       "                require([\"plotly\"], function(Plotly) {\n",
       "                    window.PLOTLYENV=window.PLOTLYENV || {};\n",
       "                    window.PLOTLYENV.BASE_URL='https://plot.ly';\n",
       "                    \n",
       "                if (document.getElementById(\"9cc5542f-bfe1-409f-bdfc-e4c16e7a15e2\")) {\n",
       "                    Plotly.newPlot(\n",
       "                        '9cc5542f-bfe1-409f-bdfc-e4c16e7a15e2',\n",
       "                        [{\"marker\": {\"color\": \"rgba(255, 153, 51, 0.6)\", \"line\": {\"color\": \"rgba(255, 153, 51, 1.0)\", \"width\": 1}}, \"name\": \"host\", \"orientation\": \"v\", \"text\": \"\", \"type\": \"bar\", \"x\": [\"stackoverflow.com\", \"english.stackexchange.com\", \"superuser.com\", \"electronics.stackexchange.com\", \"serverfault.com\", \"math.stackexchange.com\", \"physics.stackexchange.com\", \"tex.stackexchange.com\", \"askubuntu.com\", \"programmers.stackexchange.com\"], \"y\": [1253, 229, 227, 221, 213, 187, 164, 140, 126, 125]}],\n",
       "                        {\"legend\": {\"bgcolor\": \"#F5F6F9\", \"font\": {\"color\": \"#4D5663\"}}, \"paper_bgcolor\": \"#F5F6F9\", \"plot_bgcolor\": \"#F5F6F9\", \"template\": {\"data\": {\"bar\": [{\"error_x\": {\"color\": \"#2a3f5f\"}, \"error_y\": {\"color\": \"#2a3f5f\"}, \"marker\": {\"line\": {\"color\": \"#E5ECF6\", \"width\": 0.5}}, \"type\": \"bar\"}], \"barpolar\": [{\"marker\": {\"line\": {\"color\": \"#E5ECF6\", \"width\": 0.5}}, \"type\": \"barpolar\"}], \"carpet\": [{\"aaxis\": {\"endlinecolor\": \"#2a3f5f\", \"gridcolor\": \"white\", \"linecolor\": \"white\", \"minorgridcolor\": \"white\", \"startlinecolor\": \"#2a3f5f\"}, \"baxis\": {\"endlinecolor\": \"#2a3f5f\", \"gridcolor\": \"white\", \"linecolor\": \"white\", \"minorgridcolor\": \"white\", \"startlinecolor\": \"#2a3f5f\"}, \"type\": \"carpet\"}], \"choropleth\": [{\"colorbar\": {\"outlinewidth\": 0, \"ticks\": \"\"}, \"type\": \"choropleth\"}], \"contour\": [{\"colorbar\": {\"outlinewidth\": 0, \"ticks\": \"\"}, \"colorscale\": [[0.0, \"#0d0887\"], [0.1111111111111111, \"#46039f\"], [0.2222222222222222, \"#7201a8\"], [0.3333333333333333, \"#9c179e\"], [0.4444444444444444, \"#bd3786\"], [0.5555555555555556, \"#d8576b\"], [0.6666666666666666, \"#ed7953\"], [0.7777777777777778, \"#fb9f3a\"], [0.8888888888888888, \"#fdca26\"], [1.0, \"#f0f921\"]], \"type\": \"contour\"}], \"contourcarpet\": [{\"colorbar\": {\"outlinewidth\": 0, \"ticks\": \"\"}, \"type\": \"contourcarpet\"}], \"heatmap\": [{\"colorbar\": {\"outlinewidth\": 0, \"ticks\": \"\"}, \"colorscale\": [[0.0, \"#0d0887\"], [0.1111111111111111, \"#46039f\"], [0.2222222222222222, \"#7201a8\"], [0.3333333333333333, \"#9c179e\"], [0.4444444444444444, \"#bd3786\"], [0.5555555555555556, \"#d8576b\"], [0.6666666666666666, \"#ed7953\"], [0.7777777777777778, \"#fb9f3a\"], [0.8888888888888888, \"#fdca26\"], [1.0, \"#f0f921\"]], \"type\": \"heatmap\"}], \"heatmapgl\": [{\"colorbar\": {\"outlinewidth\": 0, \"ticks\": \"\"}, \"colorscale\": [[0.0, \"#0d0887\"], [0.1111111111111111, \"#46039f\"], [0.2222222222222222, \"#7201a8\"], [0.3333333333333333, \"#9c179e\"], [0.4444444444444444, \"#bd3786\"], [0.5555555555555556, \"#d8576b\"], [0.6666666666666666, \"#ed7953\"], [0.7777777777777778, \"#fb9f3a\"], [0.8888888888888888, \"#fdca26\"], [1.0, \"#f0f921\"]], \"type\": \"heatmapgl\"}], \"histogram\": [{\"marker\": {\"colorbar\": {\"outlinewidth\": 0, \"ticks\": \"\"}}, \"type\": \"histogram\"}], \"histogram2d\": [{\"colorbar\": {\"outlinewidth\": 0, \"ticks\": \"\"}, \"colorscale\": [[0.0, \"#0d0887\"], [0.1111111111111111, \"#46039f\"], [0.2222222222222222, \"#7201a8\"], [0.3333333333333333, \"#9c179e\"], [0.4444444444444444, \"#bd3786\"], [0.5555555555555556, \"#d8576b\"], [0.6666666666666666, \"#ed7953\"], [0.7777777777777778, \"#fb9f3a\"], [0.8888888888888888, \"#fdca26\"], [1.0, \"#f0f921\"]], \"type\": \"histogram2d\"}], \"histogram2dcontour\": [{\"colorbar\": {\"outlinewidth\": 0, \"ticks\": \"\"}, \"colorscale\": [[0.0, \"#0d0887\"], [0.1111111111111111, \"#46039f\"], [0.2222222222222222, \"#7201a8\"], [0.3333333333333333, \"#9c179e\"], [0.4444444444444444, \"#bd3786\"], [0.5555555555555556, \"#d8576b\"], [0.6666666666666666, \"#ed7953\"], [0.7777777777777778, \"#fb9f3a\"], [0.8888888888888888, \"#fdca26\"], [1.0, \"#f0f921\"]], \"type\": \"histogram2dcontour\"}], \"mesh3d\": [{\"colorbar\": {\"outlinewidth\": 0, \"ticks\": \"\"}, \"type\": \"mesh3d\"}], \"parcoords\": [{\"line\": {\"colorbar\": {\"outlinewidth\": 0, \"ticks\": \"\"}}, \"type\": \"parcoords\"}], \"pie\": [{\"automargin\": true, \"type\": \"pie\"}], \"scatter\": [{\"marker\": {\"colorbar\": {\"outlinewidth\": 0, \"ticks\": \"\"}}, \"type\": \"scatter\"}], \"scatter3d\": [{\"line\": {\"colorbar\": {\"outlinewidth\": 0, \"ticks\": \"\"}}, \"marker\": {\"colorbar\": {\"outlinewidth\": 0, \"ticks\": \"\"}}, \"type\": \"scatter3d\"}], \"scattercarpet\": [{\"marker\": {\"colorbar\": {\"outlinewidth\": 0, \"ticks\": \"\"}}, \"type\": \"scattercarpet\"}], \"scattergeo\": [{\"marker\": {\"colorbar\": {\"outlinewidth\": 0, \"ticks\": \"\"}}, \"type\": \"scattergeo\"}], \"scattergl\": [{\"marker\": {\"colorbar\": {\"outlinewidth\": 0, \"ticks\": \"\"}}, \"type\": \"scattergl\"}], \"scattermapbox\": [{\"marker\": {\"colorbar\": {\"outlinewidth\": 0, \"ticks\": \"\"}}, \"type\": \"scattermapbox\"}], \"scatterpolar\": [{\"marker\": {\"colorbar\": {\"outlinewidth\": 0, \"ticks\": \"\"}}, \"type\": \"scatterpolar\"}], \"scatterpolargl\": [{\"marker\": {\"colorbar\": {\"outlinewidth\": 0, \"ticks\": \"\"}}, \"type\": \"scatterpolargl\"}], \"scatterternary\": [{\"marker\": {\"colorbar\": {\"outlinewidth\": 0, \"ticks\": \"\"}}, \"type\": \"scatterternary\"}], \"surface\": [{\"colorbar\": {\"outlinewidth\": 0, \"ticks\": \"\"}, \"colorscale\": [[0.0, \"#0d0887\"], [0.1111111111111111, \"#46039f\"], [0.2222222222222222, \"#7201a8\"], [0.3333333333333333, \"#9c179e\"], [0.4444444444444444, \"#bd3786\"], [0.5555555555555556, \"#d8576b\"], [0.6666666666666666, \"#ed7953\"], [0.7777777777777778, \"#fb9f3a\"], [0.8888888888888888, \"#fdca26\"], [1.0, \"#f0f921\"]], \"type\": \"surface\"}], \"table\": [{\"cells\": {\"fill\": {\"color\": \"#EBF0F8\"}, \"line\": {\"color\": \"white\"}}, \"header\": {\"fill\": {\"color\": \"#C8D4E3\"}, \"line\": {\"color\": \"white\"}}, \"type\": \"table\"}]}, \"layout\": {\"annotationdefaults\": {\"arrowcolor\": \"#2a3f5f\", \"arrowhead\": 0, \"arrowwidth\": 1}, \"coloraxis\": {\"colorbar\": {\"outlinewidth\": 0, \"ticks\": \"\"}}, \"colorscale\": {\"diverging\": [[0, \"#8e0152\"], [0.1, \"#c51b7d\"], [0.2, \"#de77ae\"], [0.3, \"#f1b6da\"], [0.4, \"#fde0ef\"], [0.5, \"#f7f7f7\"], [0.6, \"#e6f5d0\"], [0.7, \"#b8e186\"], [0.8, \"#7fbc41\"], [0.9, \"#4d9221\"], [1, \"#276419\"]], \"sequential\": [[0.0, \"#0d0887\"], [0.1111111111111111, \"#46039f\"], [0.2222222222222222, \"#7201a8\"], [0.3333333333333333, \"#9c179e\"], [0.4444444444444444, \"#bd3786\"], [0.5555555555555556, \"#d8576b\"], [0.6666666666666666, \"#ed7953\"], [0.7777777777777778, \"#fb9f3a\"], [0.8888888888888888, \"#fdca26\"], [1.0, \"#f0f921\"]], \"sequentialminus\": [[0.0, \"#0d0887\"], [0.1111111111111111, \"#46039f\"], [0.2222222222222222, \"#7201a8\"], [0.3333333333333333, \"#9c179e\"], [0.4444444444444444, \"#bd3786\"], [0.5555555555555556, \"#d8576b\"], [0.6666666666666666, \"#ed7953\"], [0.7777777777777778, \"#fb9f3a\"], [0.8888888888888888, \"#fdca26\"], [1.0, \"#f0f921\"]]}, \"colorway\": [\"#636efa\", \"#EF553B\", \"#00cc96\", \"#ab63fa\", \"#FFA15A\", \"#19d3f3\", \"#FF6692\", \"#B6E880\", \"#FF97FF\", \"#FECB52\"], \"font\": {\"color\": \"#2a3f5f\"}, \"geo\": {\"bgcolor\": \"white\", \"lakecolor\": \"white\", \"landcolor\": \"#E5ECF6\", \"showlakes\": true, \"showland\": true, \"subunitcolor\": \"white\"}, \"hoverlabel\": {\"align\": \"left\"}, \"hovermode\": \"closest\", \"mapbox\": {\"style\": \"light\"}, \"paper_bgcolor\": \"white\", \"plot_bgcolor\": \"#E5ECF6\", \"polar\": {\"angularaxis\": {\"gridcolor\": \"white\", \"linecolor\": \"white\", \"ticks\": \"\"}, \"bgcolor\": \"#E5ECF6\", \"radialaxis\": {\"gridcolor\": \"white\", \"linecolor\": \"white\", \"ticks\": \"\"}}, \"scene\": {\"xaxis\": {\"backgroundcolor\": \"#E5ECF6\", \"gridcolor\": \"white\", \"gridwidth\": 2, \"linecolor\": \"white\", \"showbackground\": true, \"ticks\": \"\", \"zerolinecolor\": \"white\"}, \"yaxis\": {\"backgroundcolor\": \"#E5ECF6\", \"gridcolor\": \"white\", \"gridwidth\": 2, \"linecolor\": \"white\", \"showbackground\": true, \"ticks\": \"\", \"zerolinecolor\": \"white\"}, \"zaxis\": {\"backgroundcolor\": \"#E5ECF6\", \"gridcolor\": \"white\", \"gridwidth\": 2, \"linecolor\": \"white\", \"showbackground\": true, \"ticks\": \"\", \"zerolinecolor\": \"white\"}}, \"shapedefaults\": {\"line\": {\"color\": \"#2a3f5f\"}}, \"ternary\": {\"aaxis\": {\"gridcolor\": \"white\", \"linecolor\": \"white\", \"ticks\": \"\"}, \"baxis\": {\"gridcolor\": \"white\", \"linecolor\": \"white\", \"ticks\": \"\"}, \"bgcolor\": \"#E5ECF6\", \"caxis\": {\"gridcolor\": \"white\", \"linecolor\": \"white\", \"ticks\": \"\"}}, \"title\": {\"x\": 0.05}, \"xaxis\": {\"automargin\": true, \"gridcolor\": \"white\", \"linecolor\": \"white\", \"ticks\": \"\", \"title\": {\"standoff\": 15}, \"zerolinecolor\": \"white\", \"zerolinewidth\": 2}, \"yaxis\": {\"automargin\": true, \"gridcolor\": \"white\", \"linecolor\": \"white\", \"ticks\": \"\", \"title\": {\"standoff\": 15}, \"zerolinecolor\": \"white\", \"zerolinewidth\": 2}}}, \"title\": {\"font\": {\"color\": \"#4D5663\"}, \"text\": \"Distribution of train Q&A pairs by host\"}, \"xaxis\": {\"gridcolor\": \"#E1E5ED\", \"showgrid\": true, \"tickfont\": {\"color\": \"#4D5663\"}, \"title\": {\"font\": {\"color\": \"#4D5663\"}, \"text\": \"\"}, \"zerolinecolor\": \"#E1E5ED\"}, \"yaxis\": {\"gridcolor\": \"#E1E5ED\", \"showgrid\": true, \"tickfont\": {\"color\": \"#4D5663\"}, \"title\": {\"font\": {\"color\": \"#4D5663\"}, \"text\": \"\"}, \"zerolinecolor\": \"#E1E5ED\"}},\n",
       "                        {\"showLink\": true, \"linkText\": \"Export to plot.ly\", \"plotlyServerURL\": \"https://plot.ly\", \"responsive\": true}\n",
       "                    ).then(function(){\n",
       "                            \n",
       "var gd = document.getElementById('9cc5542f-bfe1-409f-bdfc-e4c16e7a15e2');\n",
       "var x = new MutationObserver(function (mutations, observer) {{\n",
       "        var display = window.getComputedStyle(gd).display;\n",
       "        if (!display || display === 'none') {{\n",
       "            console.log([gd, 'removed!']);\n",
       "            Plotly.purge(gd);\n",
       "            observer.disconnect();\n",
       "        }}\n",
       "}});\n",
       "\n",
       "// Listen for the removal of the full notebook cells\n",
       "var notebookContainer = gd.closest('#notebook-container');\n",
       "if (notebookContainer) {{\n",
       "    x.observe(notebookContainer, {childList: true});\n",
       "}}\n",
       "\n",
       "// Listen for the clearing of the current output cell\n",
       "var outputEl = gd.closest('.output');\n",
       "if (outputEl) {{\n",
       "    x.observe(outputEl, {childList: true});\n",
       "}}\n",
       "\n",
       "                        })\n",
       "                };\n",
       "                });\n",
       "            </script>\n",
       "        </div>"
      ]
     },
     "metadata": {},
     "output_type": "display_data"
    }
   ],
   "source": [
    "# top 10 hosts by Q&A pairs\n",
    "temp = train[\"host\"].value_counts()[:10]\n",
    "df = pd.DataFrame(temp)\n",
    "df.iplot(kind='bar',labels='labels',values='values', title='Top 10 hosts by Q&A pairs')\n",
    "# 1253 or 20.6% (1253/6079) Q&A pairs are hosted on stackoverflow.com"
   ]
  },
  {
   "cell_type": "code",
   "execution_count": 186,
   "metadata": {},
   "outputs": [
    {
     "data": {
      "application/vnd.plotly.v1+json": {
       "config": {
        "plotlyServerURL": "https://plot.ly"
       },
       "data": [
        {
         "domain": {
          "x": [
           0,
           0.45
          ],
          "y": [
           0.575,
           1
          ]
         },
         "hole": 0.4,
         "hoverinfo": "label+percent+name",
         "labels": [
          "superuser.com",
          "serverfault.com",
          "electronics.stackexchange.com",
          "tex.stackexchange.com",
          "askubuntu.com",
          "programmers.stackexchange.com",
          "unix.stackexchange.com",
          "apple.stackexchange.com",
          "drupal.stackexchange.com",
          "ux.stackexchange.com",
          "security.stackexchange.com",
          "gamedev.stackexchange.com",
          "wordpress.stackexchange.com",
          "magento.stackexchange.com",
          "mathematica.stackexchange.com",
          "gis.stackexchange.com",
          "dba.stackexchange.com",
          "sharepoint.stackexchange.com",
          "meta.stackexchange.com",
          "webmasters.stackexchange.com",
          "salesforce.stackexchange.com",
          "blender.stackexchange.com",
          "webapps.stackexchange.com",
          "codereview.stackexchange.com",
          "raspberrypi.stackexchange.com",
          "android.stackexchange.com",
          "crypto.stackexchange.com",
          "expressionengine.stackexchange.com",
          "dsp.stackexchange.com",
          "meta.askubuntu.com",
          "meta.codereview.stackexchange.com"
         ],
         "name": "TECHNOLOGY",
         "type": "pie",
         "values": [
          227,
          213,
          140,
          140,
          126,
          125,
          108,
          106,
          98,
          97,
          92,
          84,
          81,
          79,
          71,
          69,
          67,
          62,
          59,
          53,
          48,
          42,
          40,
          39,
          37,
          36,
          35,
          34,
          29,
          2,
          2
         ]
        },
        {
         "domain": {
          "x": [
           0.55,
           1
          ],
          "y": [
           0.575,
           1
          ]
         },
         "hole": 0.4,
         "hoverinfo": "label+percent+name",
         "labels": [
          "english.stackexchange.com",
          "rpg.stackexchange.com",
          "gaming.stackexchange.com",
          "ell.stackexchange.com",
          "bicycles.stackexchange.com",
          "travel.stackexchange.com",
          "boardgames.stackexchange.com",
          "judaism.stackexchange.com",
          "mechanics.stackexchange.com",
          "christianity.stackexchange.com",
          "anime.stackexchange.com",
          "meta.christianity.stackexchange.com"
         ],
         "name": "CULTURE",
         "type": "pie",
         "values": [
          229,
          123,
          111,
          85,
          75,
          71,
          67,
          64,
          57,
          56,
          21,
          4
         ]
        },
        {
         "domain": {
          "x": [
           0,
           0.45
          ],
          "y": [
           0,
           0.425
          ]
         },
         "hole": 0.4,
         "hoverinfo": "label+percent+name",
         "labels": [
          "math.stackexchange.com",
          "physics.stackexchange.com",
          "mathoverflow.net",
          "electronics.stackexchange.com",
          "biology.stackexchange.com",
          "chemistry.stackexchange.com",
          "stats.stackexchange.com",
          "mechanics.stackexchange.com",
          "cs.stackexchange.com",
          "softwarerecs.stackexchange.com",
          "robotics.stackexchange.com",
          "meta.math.stackexchange.com"
         ],
         "name": "SCIENCE",
         "type": "pie",
         "values": [
          187,
          164,
          82,
          81,
          53,
          52,
          52,
          21,
          9,
          8,
          2,
          2
         ]
        },
        {
         "domain": {
          "x": [
           0.55,
           1
          ],
          "y": [
           0,
           0.425
          ]
         },
         "hole": 0.4,
         "hoverinfo": "label+percent+name",
         "labels": [
          "academia.stackexchange.com",
          "photo.stackexchange.com",
          "diy.stackexchange.com",
          "scifi.stackexchange.com",
          "graphicdesign.stackexchange.com",
          "money.stackexchange.com",
          "cooking.stackexchange.com",
          "music.stackexchange.com",
          "movies.stackexchange.com"
         ],
         "name": "LIFE_ARTS",
         "type": "pie",
         "values": [
          103,
          102,
          97,
          96,
          76,
          75,
          67,
          63,
          30
         ]
        }
       ],
       "layout": {
        "annotations": [
         {
          "font": {
           "size": 5
          },
          "showarrow": false,
          "text": "TECHNOLOGY",
          "x": 0.19,
          "y": 0.8
         },
         {
          "font": {
           "size": 5
          },
          "showarrow": false,
          "text": "CULTURE",
          "x": 0.8,
          "y": 0.8
         },
         {
          "font": {
           "size": 5
          },
          "showarrow": false,
          "text": "SCIENCE",
          "x": 0.2,
          "y": 0.2
         },
         {
          "font": {
           "size": 5
          },
          "showarrow": false,
          "text": "LIFE_ARTS",
          "x": 0.8,
          "y": 0.2
         }
        ],
        "template": {
         "data": {
          "bar": [
           {
            "error_x": {
             "color": "#2a3f5f"
            },
            "error_y": {
             "color": "#2a3f5f"
            },
            "marker": {
             "line": {
              "color": "#E5ECF6",
              "width": 0.5
             }
            },
            "type": "bar"
           }
          ],
          "barpolar": [
           {
            "marker": {
             "line": {
              "color": "#E5ECF6",
              "width": 0.5
             }
            },
            "type": "barpolar"
           }
          ],
          "carpet": [
           {
            "aaxis": {
             "endlinecolor": "#2a3f5f",
             "gridcolor": "white",
             "linecolor": "white",
             "minorgridcolor": "white",
             "startlinecolor": "#2a3f5f"
            },
            "baxis": {
             "endlinecolor": "#2a3f5f",
             "gridcolor": "white",
             "linecolor": "white",
             "minorgridcolor": "white",
             "startlinecolor": "#2a3f5f"
            },
            "type": "carpet"
           }
          ],
          "choropleth": [
           {
            "colorbar": {
             "outlinewidth": 0,
             "ticks": ""
            },
            "type": "choropleth"
           }
          ],
          "contour": [
           {
            "colorbar": {
             "outlinewidth": 0,
             "ticks": ""
            },
            "colorscale": [
             [
              0,
              "#0d0887"
             ],
             [
              0.1111111111111111,
              "#46039f"
             ],
             [
              0.2222222222222222,
              "#7201a8"
             ],
             [
              0.3333333333333333,
              "#9c179e"
             ],
             [
              0.4444444444444444,
              "#bd3786"
             ],
             [
              0.5555555555555556,
              "#d8576b"
             ],
             [
              0.6666666666666666,
              "#ed7953"
             ],
             [
              0.7777777777777778,
              "#fb9f3a"
             ],
             [
              0.8888888888888888,
              "#fdca26"
             ],
             [
              1,
              "#f0f921"
             ]
            ],
            "type": "contour"
           }
          ],
          "contourcarpet": [
           {
            "colorbar": {
             "outlinewidth": 0,
             "ticks": ""
            },
            "type": "contourcarpet"
           }
          ],
          "heatmap": [
           {
            "colorbar": {
             "outlinewidth": 0,
             "ticks": ""
            },
            "colorscale": [
             [
              0,
              "#0d0887"
             ],
             [
              0.1111111111111111,
              "#46039f"
             ],
             [
              0.2222222222222222,
              "#7201a8"
             ],
             [
              0.3333333333333333,
              "#9c179e"
             ],
             [
              0.4444444444444444,
              "#bd3786"
             ],
             [
              0.5555555555555556,
              "#d8576b"
             ],
             [
              0.6666666666666666,
              "#ed7953"
             ],
             [
              0.7777777777777778,
              "#fb9f3a"
             ],
             [
              0.8888888888888888,
              "#fdca26"
             ],
             [
              1,
              "#f0f921"
             ]
            ],
            "type": "heatmap"
           }
          ],
          "heatmapgl": [
           {
            "colorbar": {
             "outlinewidth": 0,
             "ticks": ""
            },
            "colorscale": [
             [
              0,
              "#0d0887"
             ],
             [
              0.1111111111111111,
              "#46039f"
             ],
             [
              0.2222222222222222,
              "#7201a8"
             ],
             [
              0.3333333333333333,
              "#9c179e"
             ],
             [
              0.4444444444444444,
              "#bd3786"
             ],
             [
              0.5555555555555556,
              "#d8576b"
             ],
             [
              0.6666666666666666,
              "#ed7953"
             ],
             [
              0.7777777777777778,
              "#fb9f3a"
             ],
             [
              0.8888888888888888,
              "#fdca26"
             ],
             [
              1,
              "#f0f921"
             ]
            ],
            "type": "heatmapgl"
           }
          ],
          "histogram": [
           {
            "marker": {
             "colorbar": {
              "outlinewidth": 0,
              "ticks": ""
             }
            },
            "type": "histogram"
           }
          ],
          "histogram2d": [
           {
            "colorbar": {
             "outlinewidth": 0,
             "ticks": ""
            },
            "colorscale": [
             [
              0,
              "#0d0887"
             ],
             [
              0.1111111111111111,
              "#46039f"
             ],
             [
              0.2222222222222222,
              "#7201a8"
             ],
             [
              0.3333333333333333,
              "#9c179e"
             ],
             [
              0.4444444444444444,
              "#bd3786"
             ],
             [
              0.5555555555555556,
              "#d8576b"
             ],
             [
              0.6666666666666666,
              "#ed7953"
             ],
             [
              0.7777777777777778,
              "#fb9f3a"
             ],
             [
              0.8888888888888888,
              "#fdca26"
             ],
             [
              1,
              "#f0f921"
             ]
            ],
            "type": "histogram2d"
           }
          ],
          "histogram2dcontour": [
           {
            "colorbar": {
             "outlinewidth": 0,
             "ticks": ""
            },
            "colorscale": [
             [
              0,
              "#0d0887"
             ],
             [
              0.1111111111111111,
              "#46039f"
             ],
             [
              0.2222222222222222,
              "#7201a8"
             ],
             [
              0.3333333333333333,
              "#9c179e"
             ],
             [
              0.4444444444444444,
              "#bd3786"
             ],
             [
              0.5555555555555556,
              "#d8576b"
             ],
             [
              0.6666666666666666,
              "#ed7953"
             ],
             [
              0.7777777777777778,
              "#fb9f3a"
             ],
             [
              0.8888888888888888,
              "#fdca26"
             ],
             [
              1,
              "#f0f921"
             ]
            ],
            "type": "histogram2dcontour"
           }
          ],
          "mesh3d": [
           {
            "colorbar": {
             "outlinewidth": 0,
             "ticks": ""
            },
            "type": "mesh3d"
           }
          ],
          "parcoords": [
           {
            "line": {
             "colorbar": {
              "outlinewidth": 0,
              "ticks": ""
             }
            },
            "type": "parcoords"
           }
          ],
          "pie": [
           {
            "automargin": true,
            "type": "pie"
           }
          ],
          "scatter": [
           {
            "marker": {
             "colorbar": {
              "outlinewidth": 0,
              "ticks": ""
             }
            },
            "type": "scatter"
           }
          ],
          "scatter3d": [
           {
            "line": {
             "colorbar": {
              "outlinewidth": 0,
              "ticks": ""
             }
            },
            "marker": {
             "colorbar": {
              "outlinewidth": 0,
              "ticks": ""
             }
            },
            "type": "scatter3d"
           }
          ],
          "scattercarpet": [
           {
            "marker": {
             "colorbar": {
              "outlinewidth": 0,
              "ticks": ""
             }
            },
            "type": "scattercarpet"
           }
          ],
          "scattergeo": [
           {
            "marker": {
             "colorbar": {
              "outlinewidth": 0,
              "ticks": ""
             }
            },
            "type": "scattergeo"
           }
          ],
          "scattergl": [
           {
            "marker": {
             "colorbar": {
              "outlinewidth": 0,
              "ticks": ""
             }
            },
            "type": "scattergl"
           }
          ],
          "scattermapbox": [
           {
            "marker": {
             "colorbar": {
              "outlinewidth": 0,
              "ticks": ""
             }
            },
            "type": "scattermapbox"
           }
          ],
          "scatterpolar": [
           {
            "marker": {
             "colorbar": {
              "outlinewidth": 0,
              "ticks": ""
             }
            },
            "type": "scatterpolar"
           }
          ],
          "scatterpolargl": [
           {
            "marker": {
             "colorbar": {
              "outlinewidth": 0,
              "ticks": ""
             }
            },
            "type": "scatterpolargl"
           }
          ],
          "scatterternary": [
           {
            "marker": {
             "colorbar": {
              "outlinewidth": 0,
              "ticks": ""
             }
            },
            "type": "scatterternary"
           }
          ],
          "surface": [
           {
            "colorbar": {
             "outlinewidth": 0,
             "ticks": ""
            },
            "colorscale": [
             [
              0,
              "#0d0887"
             ],
             [
              0.1111111111111111,
              "#46039f"
             ],
             [
              0.2222222222222222,
              "#7201a8"
             ],
             [
              0.3333333333333333,
              "#9c179e"
             ],
             [
              0.4444444444444444,
              "#bd3786"
             ],
             [
              0.5555555555555556,
              "#d8576b"
             ],
             [
              0.6666666666666666,
              "#ed7953"
             ],
             [
              0.7777777777777778,
              "#fb9f3a"
             ],
             [
              0.8888888888888888,
              "#fdca26"
             ],
             [
              1,
              "#f0f921"
             ]
            ],
            "type": "surface"
           }
          ],
          "table": [
           {
            "cells": {
             "fill": {
              "color": "#EBF0F8"
             },
             "line": {
              "color": "white"
             }
            },
            "header": {
             "fill": {
              "color": "#C8D4E3"
             },
             "line": {
              "color": "white"
             }
            },
            "type": "table"
           }
          ]
         },
         "layout": {
          "annotationdefaults": {
           "arrowcolor": "#2a3f5f",
           "arrowhead": 0,
           "arrowwidth": 1
          },
          "coloraxis": {
           "colorbar": {
            "outlinewidth": 0,
            "ticks": ""
           }
          },
          "colorscale": {
           "diverging": [
            [
             0,
             "#8e0152"
            ],
            [
             0.1,
             "#c51b7d"
            ],
            [
             0.2,
             "#de77ae"
            ],
            [
             0.3,
             "#f1b6da"
            ],
            [
             0.4,
             "#fde0ef"
            ],
            [
             0.5,
             "#f7f7f7"
            ],
            [
             0.6,
             "#e6f5d0"
            ],
            [
             0.7,
             "#b8e186"
            ],
            [
             0.8,
             "#7fbc41"
            ],
            [
             0.9,
             "#4d9221"
            ],
            [
             1,
             "#276419"
            ]
           ],
           "sequential": [
            [
             0,
             "#0d0887"
            ],
            [
             0.1111111111111111,
             "#46039f"
            ],
            [
             0.2222222222222222,
             "#7201a8"
            ],
            [
             0.3333333333333333,
             "#9c179e"
            ],
            [
             0.4444444444444444,
             "#bd3786"
            ],
            [
             0.5555555555555556,
             "#d8576b"
            ],
            [
             0.6666666666666666,
             "#ed7953"
            ],
            [
             0.7777777777777778,
             "#fb9f3a"
            ],
            [
             0.8888888888888888,
             "#fdca26"
            ],
            [
             1,
             "#f0f921"
            ]
           ],
           "sequentialminus": [
            [
             0,
             "#0d0887"
            ],
            [
             0.1111111111111111,
             "#46039f"
            ],
            [
             0.2222222222222222,
             "#7201a8"
            ],
            [
             0.3333333333333333,
             "#9c179e"
            ],
            [
             0.4444444444444444,
             "#bd3786"
            ],
            [
             0.5555555555555556,
             "#d8576b"
            ],
            [
             0.6666666666666666,
             "#ed7953"
            ],
            [
             0.7777777777777778,
             "#fb9f3a"
            ],
            [
             0.8888888888888888,
             "#fdca26"
            ],
            [
             1,
             "#f0f921"
            ]
           ]
          },
          "colorway": [
           "#636efa",
           "#EF553B",
           "#00cc96",
           "#ab63fa",
           "#FFA15A",
           "#19d3f3",
           "#FF6692",
           "#B6E880",
           "#FF97FF",
           "#FECB52"
          ],
          "font": {
           "color": "#2a3f5f"
          },
          "geo": {
           "bgcolor": "white",
           "lakecolor": "white",
           "landcolor": "#E5ECF6",
           "showlakes": true,
           "showland": true,
           "subunitcolor": "white"
          },
          "hoverlabel": {
           "align": "left"
          },
          "hovermode": "closest",
          "mapbox": {
           "style": "light"
          },
          "paper_bgcolor": "white",
          "plot_bgcolor": "#E5ECF6",
          "polar": {
           "angularaxis": {
            "gridcolor": "white",
            "linecolor": "white",
            "ticks": ""
           },
           "bgcolor": "#E5ECF6",
           "radialaxis": {
            "gridcolor": "white",
            "linecolor": "white",
            "ticks": ""
           }
          },
          "scene": {
           "xaxis": {
            "backgroundcolor": "#E5ECF6",
            "gridcolor": "white",
            "gridwidth": 2,
            "linecolor": "white",
            "showbackground": true,
            "ticks": "",
            "zerolinecolor": "white"
           },
           "yaxis": {
            "backgroundcolor": "#E5ECF6",
            "gridcolor": "white",
            "gridwidth": 2,
            "linecolor": "white",
            "showbackground": true,
            "ticks": "",
            "zerolinecolor": "white"
           },
           "zaxis": {
            "backgroundcolor": "#E5ECF6",
            "gridcolor": "white",
            "gridwidth": 2,
            "linecolor": "white",
            "showbackground": true,
            "ticks": "",
            "zerolinecolor": "white"
           }
          },
          "shapedefaults": {
           "line": {
            "color": "#2a3f5f"
           }
          },
          "ternary": {
           "aaxis": {
            "gridcolor": "white",
            "linecolor": "white",
            "ticks": ""
           },
           "baxis": {
            "gridcolor": "white",
            "linecolor": "white",
            "ticks": ""
           },
           "bgcolor": "#E5ECF6",
           "caxis": {
            "gridcolor": "white",
            "linecolor": "white",
            "ticks": ""
           }
          },
          "title": {
           "x": 0.05
          },
          "xaxis": {
           "automargin": true,
           "gridcolor": "white",
           "linecolor": "white",
           "ticks": "",
           "title": {
            "standoff": 15
           },
           "zerolinecolor": "white",
           "zerolinewidth": 2
          },
          "yaxis": {
           "automargin": true,
           "gridcolor": "white",
           "linecolor": "white",
           "ticks": "",
           "title": {
            "standoff": 15
           },
           "zerolinecolor": "white",
           "zerolinewidth": 2
          }
         }
        },
        "title": {
         "text": "Distribution of train Q&A pairs by category, host"
        }
       }
      },
      "text/html": [
       "<div>\n",
       "        \n",
       "        \n",
       "            <div id=\"d3996e05-1924-4ba3-bd4c-57900dec6867\" class=\"plotly-graph-div\" style=\"height:525px; width:100%;\"></div>\n",
       "            <script type=\"text/javascript\">\n",
       "                require([\"plotly\"], function(Plotly) {\n",
       "                    window.PLOTLYENV=window.PLOTLYENV || {};\n",
       "                    \n",
       "                if (document.getElementById(\"d3996e05-1924-4ba3-bd4c-57900dec6867\")) {\n",
       "                    Plotly.newPlot(\n",
       "                        'd3996e05-1924-4ba3-bd4c-57900dec6867',\n",
       "                        [{\"domain\": {\"x\": [0.0, 0.45], \"y\": [0.575, 1.0]}, \"hole\": 0.4, \"hoverinfo\": \"label+percent+name\", \"labels\": [\"superuser.com\", \"serverfault.com\", \"electronics.stackexchange.com\", \"tex.stackexchange.com\", \"askubuntu.com\", \"programmers.stackexchange.com\", \"unix.stackexchange.com\", \"apple.stackexchange.com\", \"drupal.stackexchange.com\", \"ux.stackexchange.com\", \"security.stackexchange.com\", \"gamedev.stackexchange.com\", \"wordpress.stackexchange.com\", \"magento.stackexchange.com\", \"mathematica.stackexchange.com\", \"gis.stackexchange.com\", \"dba.stackexchange.com\", \"sharepoint.stackexchange.com\", \"meta.stackexchange.com\", \"webmasters.stackexchange.com\", \"salesforce.stackexchange.com\", \"blender.stackexchange.com\", \"webapps.stackexchange.com\", \"codereview.stackexchange.com\", \"raspberrypi.stackexchange.com\", \"android.stackexchange.com\", \"crypto.stackexchange.com\", \"expressionengine.stackexchange.com\", \"dsp.stackexchange.com\", \"meta.askubuntu.com\", \"meta.codereview.stackexchange.com\"], \"name\": \"TECHNOLOGY\", \"type\": \"pie\", \"values\": [227, 213, 140, 140, 126, 125, 108, 106, 98, 97, 92, 84, 81, 79, 71, 69, 67, 62, 59, 53, 48, 42, 40, 39, 37, 36, 35, 34, 29, 2, 2]}, {\"domain\": {\"x\": [0.55, 1.0], \"y\": [0.575, 1.0]}, \"hole\": 0.4, \"hoverinfo\": \"label+percent+name\", \"labels\": [\"english.stackexchange.com\", \"rpg.stackexchange.com\", \"gaming.stackexchange.com\", \"ell.stackexchange.com\", \"bicycles.stackexchange.com\", \"travel.stackexchange.com\", \"boardgames.stackexchange.com\", \"judaism.stackexchange.com\", \"mechanics.stackexchange.com\", \"christianity.stackexchange.com\", \"anime.stackexchange.com\", \"meta.christianity.stackexchange.com\"], \"name\": \"CULTURE\", \"type\": \"pie\", \"values\": [229, 123, 111, 85, 75, 71, 67, 64, 57, 56, 21, 4]}, {\"domain\": {\"x\": [0.0, 0.45], \"y\": [0.0, 0.425]}, \"hole\": 0.4, \"hoverinfo\": \"label+percent+name\", \"labels\": [\"math.stackexchange.com\", \"physics.stackexchange.com\", \"mathoverflow.net\", \"electronics.stackexchange.com\", \"biology.stackexchange.com\", \"chemistry.stackexchange.com\", \"stats.stackexchange.com\", \"mechanics.stackexchange.com\", \"cs.stackexchange.com\", \"softwarerecs.stackexchange.com\", \"robotics.stackexchange.com\", \"meta.math.stackexchange.com\"], \"name\": \"SCIENCE\", \"type\": \"pie\", \"values\": [187, 164, 82, 81, 53, 52, 52, 21, 9, 8, 2, 2]}, {\"domain\": {\"x\": [0.55, 1.0], \"y\": [0.0, 0.425]}, \"hole\": 0.4, \"hoverinfo\": \"label+percent+name\", \"labels\": [\"academia.stackexchange.com\", \"photo.stackexchange.com\", \"diy.stackexchange.com\", \"scifi.stackexchange.com\", \"graphicdesign.stackexchange.com\", \"money.stackexchange.com\", \"cooking.stackexchange.com\", \"music.stackexchange.com\", \"movies.stackexchange.com\"], \"name\": \"LIFE_ARTS\", \"type\": \"pie\", \"values\": [103, 102, 97, 96, 76, 75, 67, 63, 30]}],\n",
       "                        {\"annotations\": [{\"font\": {\"size\": 5}, \"showarrow\": false, \"text\": \"TECHNOLOGY\", \"x\": 0.19, \"y\": 0.8}, {\"font\": {\"size\": 5}, \"showarrow\": false, \"text\": \"CULTURE\", \"x\": 0.8, \"y\": 0.8}, {\"font\": {\"size\": 5}, \"showarrow\": false, \"text\": \"SCIENCE\", \"x\": 0.2, \"y\": 0.2}, {\"font\": {\"size\": 5}, \"showarrow\": false, \"text\": \"LIFE_ARTS\", \"x\": 0.8, \"y\": 0.2}], \"template\": {\"data\": {\"bar\": [{\"error_x\": {\"color\": \"#2a3f5f\"}, \"error_y\": {\"color\": \"#2a3f5f\"}, \"marker\": {\"line\": {\"color\": \"#E5ECF6\", \"width\": 0.5}}, \"type\": \"bar\"}], \"barpolar\": [{\"marker\": {\"line\": {\"color\": \"#E5ECF6\", \"width\": 0.5}}, \"type\": \"barpolar\"}], \"carpet\": [{\"aaxis\": {\"endlinecolor\": \"#2a3f5f\", \"gridcolor\": \"white\", \"linecolor\": \"white\", \"minorgridcolor\": \"white\", \"startlinecolor\": \"#2a3f5f\"}, \"baxis\": {\"endlinecolor\": \"#2a3f5f\", \"gridcolor\": \"white\", \"linecolor\": \"white\", \"minorgridcolor\": \"white\", \"startlinecolor\": \"#2a3f5f\"}, \"type\": \"carpet\"}], \"choropleth\": [{\"colorbar\": {\"outlinewidth\": 0, \"ticks\": \"\"}, \"type\": \"choropleth\"}], \"contour\": [{\"colorbar\": {\"outlinewidth\": 0, \"ticks\": \"\"}, \"colorscale\": [[0.0, \"#0d0887\"], [0.1111111111111111, \"#46039f\"], [0.2222222222222222, \"#7201a8\"], [0.3333333333333333, \"#9c179e\"], [0.4444444444444444, \"#bd3786\"], [0.5555555555555556, \"#d8576b\"], [0.6666666666666666, \"#ed7953\"], [0.7777777777777778, \"#fb9f3a\"], [0.8888888888888888, \"#fdca26\"], [1.0, \"#f0f921\"]], \"type\": \"contour\"}], \"contourcarpet\": [{\"colorbar\": {\"outlinewidth\": 0, \"ticks\": \"\"}, \"type\": \"contourcarpet\"}], \"heatmap\": [{\"colorbar\": {\"outlinewidth\": 0, \"ticks\": \"\"}, \"colorscale\": [[0.0, \"#0d0887\"], [0.1111111111111111, \"#46039f\"], [0.2222222222222222, \"#7201a8\"], [0.3333333333333333, \"#9c179e\"], [0.4444444444444444, \"#bd3786\"], [0.5555555555555556, \"#d8576b\"], [0.6666666666666666, \"#ed7953\"], [0.7777777777777778, \"#fb9f3a\"], [0.8888888888888888, \"#fdca26\"], [1.0, \"#f0f921\"]], \"type\": \"heatmap\"}], \"heatmapgl\": [{\"colorbar\": {\"outlinewidth\": 0, \"ticks\": \"\"}, \"colorscale\": [[0.0, \"#0d0887\"], [0.1111111111111111, \"#46039f\"], [0.2222222222222222, \"#7201a8\"], [0.3333333333333333, \"#9c179e\"], [0.4444444444444444, \"#bd3786\"], [0.5555555555555556, \"#d8576b\"], [0.6666666666666666, \"#ed7953\"], [0.7777777777777778, \"#fb9f3a\"], [0.8888888888888888, \"#fdca26\"], [1.0, \"#f0f921\"]], \"type\": \"heatmapgl\"}], \"histogram\": [{\"marker\": {\"colorbar\": {\"outlinewidth\": 0, \"ticks\": \"\"}}, \"type\": \"histogram\"}], \"histogram2d\": [{\"colorbar\": {\"outlinewidth\": 0, \"ticks\": \"\"}, \"colorscale\": [[0.0, \"#0d0887\"], [0.1111111111111111, \"#46039f\"], [0.2222222222222222, \"#7201a8\"], [0.3333333333333333, \"#9c179e\"], [0.4444444444444444, \"#bd3786\"], [0.5555555555555556, \"#d8576b\"], [0.6666666666666666, \"#ed7953\"], [0.7777777777777778, \"#fb9f3a\"], [0.8888888888888888, \"#fdca26\"], [1.0, \"#f0f921\"]], \"type\": \"histogram2d\"}], \"histogram2dcontour\": [{\"colorbar\": {\"outlinewidth\": 0, \"ticks\": \"\"}, \"colorscale\": [[0.0, \"#0d0887\"], [0.1111111111111111, \"#46039f\"], [0.2222222222222222, \"#7201a8\"], [0.3333333333333333, \"#9c179e\"], [0.4444444444444444, \"#bd3786\"], [0.5555555555555556, \"#d8576b\"], [0.6666666666666666, \"#ed7953\"], [0.7777777777777778, \"#fb9f3a\"], [0.8888888888888888, \"#fdca26\"], [1.0, \"#f0f921\"]], \"type\": \"histogram2dcontour\"}], \"mesh3d\": [{\"colorbar\": {\"outlinewidth\": 0, \"ticks\": \"\"}, \"type\": \"mesh3d\"}], \"parcoords\": [{\"line\": {\"colorbar\": {\"outlinewidth\": 0, \"ticks\": \"\"}}, \"type\": \"parcoords\"}], \"pie\": [{\"automargin\": true, \"type\": \"pie\"}], \"scatter\": [{\"marker\": {\"colorbar\": {\"outlinewidth\": 0, \"ticks\": \"\"}}, \"type\": \"scatter\"}], \"scatter3d\": [{\"line\": {\"colorbar\": {\"outlinewidth\": 0, \"ticks\": \"\"}}, \"marker\": {\"colorbar\": {\"outlinewidth\": 0, \"ticks\": \"\"}}, \"type\": \"scatter3d\"}], \"scattercarpet\": [{\"marker\": {\"colorbar\": {\"outlinewidth\": 0, \"ticks\": \"\"}}, \"type\": \"scattercarpet\"}], \"scattergeo\": [{\"marker\": {\"colorbar\": {\"outlinewidth\": 0, \"ticks\": \"\"}}, \"type\": \"scattergeo\"}], \"scattergl\": [{\"marker\": {\"colorbar\": {\"outlinewidth\": 0, \"ticks\": \"\"}}, \"type\": \"scattergl\"}], \"scattermapbox\": [{\"marker\": {\"colorbar\": {\"outlinewidth\": 0, \"ticks\": \"\"}}, \"type\": \"scattermapbox\"}], \"scatterpolar\": [{\"marker\": {\"colorbar\": {\"outlinewidth\": 0, \"ticks\": \"\"}}, \"type\": \"scatterpolar\"}], \"scatterpolargl\": [{\"marker\": {\"colorbar\": {\"outlinewidth\": 0, \"ticks\": \"\"}}, \"type\": \"scatterpolargl\"}], \"scatterternary\": [{\"marker\": {\"colorbar\": {\"outlinewidth\": 0, \"ticks\": \"\"}}, \"type\": \"scatterternary\"}], \"surface\": [{\"colorbar\": {\"outlinewidth\": 0, \"ticks\": \"\"}, \"colorscale\": [[0.0, \"#0d0887\"], [0.1111111111111111, \"#46039f\"], [0.2222222222222222, \"#7201a8\"], [0.3333333333333333, \"#9c179e\"], [0.4444444444444444, \"#bd3786\"], [0.5555555555555556, \"#d8576b\"], [0.6666666666666666, \"#ed7953\"], [0.7777777777777778, \"#fb9f3a\"], [0.8888888888888888, \"#fdca26\"], [1.0, \"#f0f921\"]], \"type\": \"surface\"}], \"table\": [{\"cells\": {\"fill\": {\"color\": \"#EBF0F8\"}, \"line\": {\"color\": \"white\"}}, \"header\": {\"fill\": {\"color\": \"#C8D4E3\"}, \"line\": {\"color\": \"white\"}}, \"type\": \"table\"}]}, \"layout\": {\"annotationdefaults\": {\"arrowcolor\": \"#2a3f5f\", \"arrowhead\": 0, \"arrowwidth\": 1}, \"coloraxis\": {\"colorbar\": {\"outlinewidth\": 0, \"ticks\": \"\"}}, \"colorscale\": {\"diverging\": [[0, \"#8e0152\"], [0.1, \"#c51b7d\"], [0.2, \"#de77ae\"], [0.3, \"#f1b6da\"], [0.4, \"#fde0ef\"], [0.5, \"#f7f7f7\"], [0.6, \"#e6f5d0\"], [0.7, \"#b8e186\"], [0.8, \"#7fbc41\"], [0.9, \"#4d9221\"], [1, \"#276419\"]], \"sequential\": [[0.0, \"#0d0887\"], [0.1111111111111111, \"#46039f\"], [0.2222222222222222, \"#7201a8\"], [0.3333333333333333, \"#9c179e\"], [0.4444444444444444, \"#bd3786\"], [0.5555555555555556, \"#d8576b\"], [0.6666666666666666, \"#ed7953\"], [0.7777777777777778, \"#fb9f3a\"], [0.8888888888888888, \"#fdca26\"], [1.0, \"#f0f921\"]], \"sequentialminus\": [[0.0, \"#0d0887\"], [0.1111111111111111, \"#46039f\"], [0.2222222222222222, \"#7201a8\"], [0.3333333333333333, \"#9c179e\"], [0.4444444444444444, \"#bd3786\"], [0.5555555555555556, \"#d8576b\"], [0.6666666666666666, \"#ed7953\"], [0.7777777777777778, \"#fb9f3a\"], [0.8888888888888888, \"#fdca26\"], [1.0, \"#f0f921\"]]}, \"colorway\": [\"#636efa\", \"#EF553B\", \"#00cc96\", \"#ab63fa\", \"#FFA15A\", \"#19d3f3\", \"#FF6692\", \"#B6E880\", \"#FF97FF\", \"#FECB52\"], \"font\": {\"color\": \"#2a3f5f\"}, \"geo\": {\"bgcolor\": \"white\", \"lakecolor\": \"white\", \"landcolor\": \"#E5ECF6\", \"showlakes\": true, \"showland\": true, \"subunitcolor\": \"white\"}, \"hoverlabel\": {\"align\": \"left\"}, \"hovermode\": \"closest\", \"mapbox\": {\"style\": \"light\"}, \"paper_bgcolor\": \"white\", \"plot_bgcolor\": \"#E5ECF6\", \"polar\": {\"angularaxis\": {\"gridcolor\": \"white\", \"linecolor\": \"white\", \"ticks\": \"\"}, \"bgcolor\": \"#E5ECF6\", \"radialaxis\": {\"gridcolor\": \"white\", \"linecolor\": \"white\", \"ticks\": \"\"}}, \"scene\": {\"xaxis\": {\"backgroundcolor\": \"#E5ECF6\", \"gridcolor\": \"white\", \"gridwidth\": 2, \"linecolor\": \"white\", \"showbackground\": true, \"ticks\": \"\", \"zerolinecolor\": \"white\"}, \"yaxis\": {\"backgroundcolor\": \"#E5ECF6\", \"gridcolor\": \"white\", \"gridwidth\": 2, \"linecolor\": \"white\", \"showbackground\": true, \"ticks\": \"\", \"zerolinecolor\": \"white\"}, \"zaxis\": {\"backgroundcolor\": \"#E5ECF6\", \"gridcolor\": \"white\", \"gridwidth\": 2, \"linecolor\": \"white\", \"showbackground\": true, \"ticks\": \"\", \"zerolinecolor\": \"white\"}}, \"shapedefaults\": {\"line\": {\"color\": \"#2a3f5f\"}}, \"ternary\": {\"aaxis\": {\"gridcolor\": \"white\", \"linecolor\": \"white\", \"ticks\": \"\"}, \"baxis\": {\"gridcolor\": \"white\", \"linecolor\": \"white\", \"ticks\": \"\"}, \"bgcolor\": \"#E5ECF6\", \"caxis\": {\"gridcolor\": \"white\", \"linecolor\": \"white\", \"ticks\": \"\"}}, \"title\": {\"x\": 0.05}, \"xaxis\": {\"automargin\": true, \"gridcolor\": \"white\", \"linecolor\": \"white\", \"ticks\": \"\", \"title\": {\"standoff\": 15}, \"zerolinecolor\": \"white\", \"zerolinewidth\": 2}, \"yaxis\": {\"automargin\": true, \"gridcolor\": \"white\", \"linecolor\": \"white\", \"ticks\": \"\", \"title\": {\"standoff\": 15}, \"zerolinecolor\": \"white\", \"zerolinewidth\": 2}}}, \"title\": {\"text\": \"Distribution of train Q&A pairs by category, host\"}},\n",
       "                        {\"responsive\": true}\n",
       "                    ).then(function(){\n",
       "                            \n",
       "var gd = document.getElementById('d3996e05-1924-4ba3-bd4c-57900dec6867');\n",
       "var x = new MutationObserver(function (mutations, observer) {{\n",
       "        var display = window.getComputedStyle(gd).display;\n",
       "        if (!display || display === 'none') {{\n",
       "            console.log([gd, 'removed!']);\n",
       "            Plotly.purge(gd);\n",
       "            observer.disconnect();\n",
       "        }}\n",
       "}});\n",
       "\n",
       "// Listen for the removal of the full notebook cells\n",
       "var notebookContainer = gd.closest('#notebook-container');\n",
       "if (notebookContainer) {{\n",
       "    x.observe(notebookContainer, {childList: true});\n",
       "}}\n",
       "\n",
       "// Listen for the clearing of the current output cell\n",
       "var outputEl = gd.closest('.output');\n",
       "if (outputEl) {{\n",
       "    x.observe(outputEl, {childList: true});\n",
       "}}\n",
       "\n",
       "                        })\n",
       "                };\n",
       "                });\n",
       "            </script>\n",
       "        </div>"
      ]
     },
     "metadata": {},
     "output_type": "display_data"
    }
   ],
   "source": [
    "fig = make_subplots(rows=2, cols=2, specs=[[{'type':'domain'}, {'type':'domain'}], [{'type':'domain'}, {'type':'domain'}]])\n",
    "fig.add_trace(go.Pie(labels=train[train.category=='TECHNOLOGY'].host.value_counts().index, \n",
    "                     values=train[train.category=='TECHNOLOGY'].host.value_counts().values, name=\"TECHNOLOGY\"),1, 1)\n",
    "fig.add_trace(go.Pie(labels=train[train.category=='CULTURE'].host.value_counts().index, \n",
    "                     values=train[train.category=='CULTURE'].host.value_counts().values, name=\"CULTURE\"),1, 2)\n",
    "fig.add_trace(go.Pie(labels=train[train.category=='SCIENCE'].host.value_counts().index, \n",
    "                     values=train[train.category=='SCIENCE'].host.value_counts().values, name=\"SCIENCE\"),2, 1)\n",
    "fig.add_trace(go.Pie(labels=train[train.category=='LIFE_ARTS'].host.value_counts().index, \n",
    "                     values=train[train.category=='LIFE_ARTS'].host.value_counts().values, name=\"LIFE_ARTS\"),2, 2)\n",
    "\n",
    "\n",
    "# Use `hole` to create a donut-like pie chart\n",
    "fig.update_traces(hole=.4, hoverinfo=\"label+percent+name\")\n",
    "\n",
    "fig.update_layout(\n",
    "    title_text=\"Distribution of train Q&A pairs by category, host\",\n",
    "    # Add annotations in the center of the donut pies.\n",
    "    annotations=[dict(text='TECHNOLOGY', x=0.19, y=0.8, font_size=5, showarrow=False),\n",
    "                 dict(text='CULTURE', x=0.8, y=0.8, font_size=5, showarrow=False),\n",
    "                 dict(text='SCIENCE', x=0.2, y=0.2, font_size=5, showarrow=False),\n",
    "                 dict(text='LIFE_ARTS', x=0.8, y=0.2, font_size=5, showarrow=False)])\n",
    "fig.show()\n",
    "# stackoverflow category - only 1 host\n",
    "# technology category - 31 hosts, superuser.com highest in technology with 9.3% Q&A pairs\n",
    "# culture category - 12 hosts, english.stackexchange.com in culture highest with 23.8% Q&A pairs\n",
    "# science category - 12 hosts, math.stackexchange.com highest in science with 26.2% Q&A pairs\n",
    "# life arts category - 9 hosts, academia.stackexchange.com highest in life arts with 14.5% Q%A pairs"
   ]
  },
  {
   "cell_type": "markdown",
   "metadata": {},
   "source": [
    "#### Exploring users"
   ]
  },
  {
   "cell_type": "code",
   "execution_count": 216,
   "metadata": {},
   "outputs": [
    {
     "data": {
      "text/plain": [
       "<matplotlib.legend.Legend at 0x1d7bbad3cf8>"
      ]
     },
     "execution_count": 216,
     "metadata": {},
     "output_type": "execute_result"
    },
    {
     "data": {
      "image/png": "[encoded data removed]",
      "text/plain": [
       "<Figure size 720x360 with 1 Axes>"
      ]
     },
     "metadata": {
      "needs_background": "light"
     },
     "output_type": "display_data"
    }
   ],
   "source": [
    "# top 3 users by questions\n",
    "temp = train.groupby(['question_user_name','host'],as_index=False).count()\n",
    "temp = temp[temp['question_user_name'].isin(train.groupby('question_user_name').agg({'qa_id':['count']}).sort_values([('qa_id','count')],ascending=False).head(3).index)]\n",
    "\n",
    "temp.pivot(index='question_user_name', columns='host', values='qa_id').plot.bar(stacked=True, figsize=(10,5))\n",
    "plt.legend(loc='center left', bbox_to_anchor=(1, 0.5))\n",
    "# User Mike has asked the highest number of questions i.e. 15 across 6 hosts"
   ]
  },
  {
   "cell_type": "code",
   "execution_count": 217,
   "metadata": {},
   "outputs": [
    {
     "data": {
      "text/plain": [
       "<matplotlib.legend.Legend at 0x1d7bd127208>"
      ]
     },
     "execution_count": 217,
     "metadata": {},
     "output_type": "execute_result"
    },
    {
     "data": {
      "image/png": "[encoded data removed]",
      "text/plain": [
       "<Figure size 720x360 with 1 Axes>"
      ]
     },
     "metadata": {
      "needs_background": "light"
     },
     "output_type": "display_data"
    }
   ],
   "source": [
    "# top 10 users by answers\n",
    "temp = train.groupby(['answer_user_name','host'],as_index=False).count()\n",
    "temp = temp[temp['answer_user_name'].isin(train.groupby('answer_user_name').agg({'qa_id':['count']}).sort_values([('qa_id','count')],ascending=False).head(3).index)]\n",
    "\n",
    "temp.pivot(index='answer_user_name', columns='host', values='qa_id').plot.bar(stacked=True, figsize=(10,5))\n",
    "plt.legend(loc='center left', bbox_to_anchor=(1, 0.5))\n",
    "# User Scott has asked the highest number of questions i.e. 20 across 5 hosts"
   ]
  },
  {
   "cell_type": "code",
   "execution_count": 218,
   "metadata": {},
   "outputs": [
    {
     "data": {
      "text/plain": [
       "Text(0.5, 1.0, 'Common users in both question & answer in train data')"
      ]
     },
     "execution_count": 218,
     "metadata": {},
     "output_type": "execute_result"
    },
    {
     "data": {
      "image/png": "[encoded data removed]",
      "text/plain": [
       "<Figure size 432x288 with 1 Axes>"
      ]
     },
     "metadata": {},
     "output_type": "display_data"
    }
   ],
   "source": [
    "# common users in both questions & answers\n",
    "v.venn2([set(train.question_user_name.unique()), set(train.answer_user_name.unique())], set_labels = ('Users in questions', 'Users in answers') )\n",
    "plt.title(\"Common users in both question & answer in train data\", fontsize=15)\n",
    "# 405 or 6.6% (405/6114) common users in both questions & answers"
   ]
  },
  {
   "cell_type": "markdown",
   "metadata": {},
   "source": [
    "#### Exploring questions and answers"
   ]
  },
  {
   "cell_type": "code",
   "execution_count": 233,
   "metadata": {},
   "outputs": [
    {
     "data": {
      "image/png": "[encoded data removed]",
      "text/plain": [
       "<Figure size 2160x432 with 3 Axes>"
      ]
     },
     "metadata": {
      "needs_background": "light"
     },
     "output_type": "display_data"
    }
   ],
   "source": [
    "train_question_title=train['question_title'].str.len()\n",
    "train_question_body=train['question_body'].str.len()\n",
    "train_answer=train['answer'].str.len()\n",
    "fig,(ax1,ax2,ax3)=plt.subplots(1,3,figsize=(30,6))\n",
    "sns.distplot(train_question_title,ax=ax1,color='blue')\n",
    "sns.distplot(train_question_body,ax=ax2,color='green')\n",
    "sns.distplot(train_answer,ax=ax3,color='orange')\n",
    "ax1.set_title('Distribution for question title in Train data')\n",
    "ax2.set_title('Distribution for question body in Train data')\n",
    "ax3.set_title('Distribution for answer in Train data')\n",
    "plt.show()"
   ]
  },
  {
   "cell_type": "code",
   "execution_count": 232,
   "metadata": {},
   "outputs": [
    {
     "data": {
      "text/plain": [
       "0        833\n",
       "1        451\n",
       "2       1048\n",
       "3       1337\n",
       "4        225\n",
       "        ... \n",
       "6074    1309\n",
       "6075    1122\n",
       "6076     134\n",
       "6077    1429\n",
       "6078    1129\n",
       "Name: answer, Length: 6079, dtype: int64"
      ]
     },
     "execution_count": 232,
     "metadata": {},
     "output_type": "execute_result"
    }
   ],
   "source": [
    "train['answer'].str.len()"
   ]
  },
  {
   "cell_type": "code",
   "execution_count": null,
   "metadata": {},
   "outputs": [],
   "source": []
  }
 ],
 "metadata": {
  "kernelspec": {
   "display_name": "Python 3",
   "language": "python",
   "name": "python3"
  },
  "language_info": {
   "codemirror_mode": {
    "name": "ipython",
    "version": 3
   },
   "file_extension": ".py",
   "mimetype": "text/x-python",
   "name": "python",
   "nbconvert_exporter": "python",
   "pygments_lexer": "ipython3",
   "version": "3.7.3"
  }
 },
 "nbformat": 4,
 "nbformat_minor": 2
}
